{
 "cells": [
  {
   "cell_type": "markdown",
   "id": "b74c42ec",
   "metadata": {
    "id": "b74c42ec"
   },
   "source": [
    "### Importing Necessary Packages and Functions"
   ]
  },
  {
   "cell_type": "code",
   "execution_count": 1,
   "id": "a9e961ef",
   "metadata": {
    "id": "a9e961ef"
   },
   "outputs": [],
   "source": [
    "import pandas as pd\n",
    "from sklearn.ensemble import RandomForestClassifier\n",
    "from sklearn.model_selection import train_test_split\n",
    "from sklearn.metrics import accuracy_score\n",
    "import matplotlib.pyplot as plt\n",
    "from sklearn.tree import plot_tree\n",
    "from sklearn.metrics import precision_score\n",
    "from sklearn.metrics import recall_score\n"
   ]
  },
  {
   "cell_type": "markdown",
   "id": "30c70ec2",
   "metadata": {
    "id": "30c70ec2"
   },
   "source": [
    "### Reading Subtype Dataset"
   ]
  },
  {
   "cell_type": "code",
   "execution_count": 2,
   "id": "5b6700fd",
   "metadata": {
    "id": "5b6700fd"
   },
   "outputs": [],
   "source": [
    "df_subtype = pd.read_csv(\"BRCA.547.PAM50.SigClust.Subtypes.txt\", sep=\"\\t\")"
   ]
  },
  {
   "cell_type": "code",
   "execution_count": 3,
   "id": "201726b2",
   "metadata": {
    "id": "201726b2"
   },
   "outputs": [],
   "source": [
    "df_subtype = df_subtype.set_index(\"Sample\")\n",
    "df_subtype.rename(columns = {'PAM50':'Subtype'}, inplace = True)"
   ]
  },
  {
   "cell_type": "code",
   "execution_count": 4,
   "id": "309c5cd9",
   "metadata": {
    "colab": {
     "base_uri": "https://localhost:8080/",
     "height": 238
    },
    "id": "309c5cd9",
    "outputId": "ee9e16d1-7eb2-432c-ebd1-12611d158c73"
   },
   "outputs": [
    {
     "data": {
      "text/html": [
       "<div>\n",
       "<style scoped>\n",
       "    .dataframe tbody tr th:only-of-type {\n",
       "        vertical-align: middle;\n",
       "    }\n",
       "\n",
       "    .dataframe tbody tr th {\n",
       "        vertical-align: top;\n",
       "    }\n",
       "\n",
       "    .dataframe thead th {\n",
       "        text-align: right;\n",
       "    }\n",
       "</style>\n",
       "<table border=\"1\" class=\"dataframe\">\n",
       "  <thead>\n",
       "    <tr style=\"text-align: right;\">\n",
       "      <th></th>\n",
       "      <th>Type</th>\n",
       "      <th>Siglust</th>\n",
       "      <th>Subtype</th>\n",
       "    </tr>\n",
       "    <tr>\n",
       "      <th>Sample</th>\n",
       "      <th></th>\n",
       "      <th></th>\n",
       "      <th></th>\n",
       "    </tr>\n",
       "  </thead>\n",
       "  <tbody>\n",
       "    <tr>\n",
       "      <th>TCGA-AN-A0FL-01A-11R-A034-07</th>\n",
       "      <td>tumor</td>\n",
       "      <td>-13</td>\n",
       "      <td>Basal</td>\n",
       "    </tr>\n",
       "    <tr>\n",
       "      <th>TCGA-A1-A0SK-01A-12R-A084-07</th>\n",
       "      <td>tumor</td>\n",
       "      <td>-13</td>\n",
       "      <td>Basal</td>\n",
       "    </tr>\n",
       "    <tr>\n",
       "      <th>TCGA-BH-A0HL-01A-11R-A034-07</th>\n",
       "      <td>tumor</td>\n",
       "      <td>-13</td>\n",
       "      <td>Basal</td>\n",
       "    </tr>\n",
       "    <tr>\n",
       "      <th>TCGA-BH-A0HN-01A-11R-A084-07</th>\n",
       "      <td>tumor</td>\n",
       "      <td>-13</td>\n",
       "      <td>Basal</td>\n",
       "    </tr>\n",
       "    <tr>\n",
       "      <th>TCGA-BH-A0E0-01A-11R-A056-07</th>\n",
       "      <td>tumor</td>\n",
       "      <td>-13</td>\n",
       "      <td>Basal</td>\n",
       "    </tr>\n",
       "  </tbody>\n",
       "</table>\n",
       "</div>"
      ],
      "text/plain": [
       "                               Type  Siglust Subtype\n",
       "Sample                                              \n",
       "TCGA-AN-A0FL-01A-11R-A034-07  tumor      -13   Basal\n",
       "TCGA-A1-A0SK-01A-12R-A084-07  tumor      -13   Basal\n",
       "TCGA-BH-A0HL-01A-11R-A034-07  tumor      -13   Basal\n",
       "TCGA-BH-A0HN-01A-11R-A084-07  tumor      -13   Basal\n",
       "TCGA-BH-A0E0-01A-11R-A056-07  tumor      -13   Basal"
      ]
     },
     "execution_count": 4,
     "metadata": {},
     "output_type": "execute_result"
    }
   ],
   "source": [
    "df_subtype.head()"
   ]
  },
  {
   "cell_type": "markdown",
   "id": "acb75ea5",
   "metadata": {
    "id": "acb75ea5"
   },
   "source": [
    "### Reading Gene Expression Dataset"
   ]
  },
  {
   "cell_type": "code",
   "execution_count": 5,
   "id": "061850bb",
   "metadata": {
    "id": "061850bb"
   },
   "outputs": [],
   "source": [
    "df_expression = pd.read_csv(\"BRCA.exp.547.med.txt\", sep=\"\\t\").transpose()"
   ]
  },
  {
   "cell_type": "code",
   "execution_count": 6,
   "id": "10d40490",
   "metadata": {
    "id": "10d40490"
   },
   "outputs": [],
   "source": [
    "genes = df_expression.loc[\"NAME\"]\n",
    "df_expression = df_expression.drop(\"NAME\")\n",
    "df_expression.columns = genes"
   ]
  },
  {
   "cell_type": "code",
   "execution_count": 7,
   "id": "7d97444e",
   "metadata": {
    "colab": {
     "base_uri": "https://localhost:8080/",
     "height": 820
    },
    "id": "7d97444e",
    "outputId": "a0fdf113-1147-418a-fc12-096bf194aad7"
   },
   "outputs": [
    {
     "data": {
      "text/html": [
       "<div>\n",
       "<style scoped>\n",
       "    .dataframe tbody tr th:only-of-type {\n",
       "        vertical-align: middle;\n",
       "    }\n",
       "\n",
       "    .dataframe tbody tr th {\n",
       "        vertical-align: top;\n",
       "    }\n",
       "\n",
       "    .dataframe thead th {\n",
       "        text-align: right;\n",
       "    }\n",
       "</style>\n",
       "<table border=\"1\" class=\"dataframe\">\n",
       "  <thead>\n",
       "    <tr style=\"text-align: right;\">\n",
       "      <th>NAME</th>\n",
       "      <th>ELMO2</th>\n",
       "      <th>CREB3L1</th>\n",
       "      <th>RPS11</th>\n",
       "      <th>PNMA1</th>\n",
       "      <th>MMP2</th>\n",
       "      <th>C10orf90</th>\n",
       "      <th>ZHX3</th>\n",
       "      <th>ERCC5</th>\n",
       "      <th>GPR98</th>\n",
       "      <th>RXFP3</th>\n",
       "      <th>...</th>\n",
       "      <th>SLC2A11</th>\n",
       "      <th>GRIP2</th>\n",
       "      <th>GPLD1</th>\n",
       "      <th>RAB8A</th>\n",
       "      <th>RXFP2</th>\n",
       "      <th>PIK3IP1</th>\n",
       "      <th>SLC39A6</th>\n",
       "      <th>SNRPD2</th>\n",
       "      <th>AQP7</th>\n",
       "      <th>CTSC</th>\n",
       "    </tr>\n",
       "  </thead>\n",
       "  <tbody>\n",
       "    <tr>\n",
       "      <th>TCGA-A1-A0SD-01A-11R-A115-07</th>\n",
       "      <td>0.220167</td>\n",
       "      <td>0.54375</td>\n",
       "      <td>0.354875</td>\n",
       "      <td>0.4335</td>\n",
       "      <td>1.065167</td>\n",
       "      <td>-0.11225</td>\n",
       "      <td>0.262333</td>\n",
       "      <td>-0.16625</td>\n",
       "      <td>0.322375</td>\n",
       "      <td>-0.496</td>\n",
       "      <td>...</td>\n",
       "      <td>0.308833</td>\n",
       "      <td>-0.00275</td>\n",
       "      <td>0.048</td>\n",
       "      <td>-0.2987</td>\n",
       "      <td>0.0625</td>\n",
       "      <td>-0.1575</td>\n",
       "      <td>0.1907</td>\n",
       "      <td>0.0472</td>\n",
       "      <td>-0.1925</td>\n",
       "      <td>-0.7193</td>\n",
       "    </tr>\n",
       "    <tr>\n",
       "      <th>TCGA-A1-A0SE-01A-11R-A084-07</th>\n",
       "      <td>-0.1055</td>\n",
       "      <td>0.0</td>\n",
       "      <td>0.305875</td>\n",
       "      <td>0.03925</td>\n",
       "      <td>0.517</td>\n",
       "      <td>1.31575</td>\n",
       "      <td>0.175333</td>\n",
       "      <td>-0.2975</td>\n",
       "      <td>0.067</td>\n",
       "      <td>0.0085</td>\n",
       "      <td>...</td>\n",
       "      <td>0.214333</td>\n",
       "      <td>0.05975</td>\n",
       "      <td>0.275167</td>\n",
       "      <td>0.2673</td>\n",
       "      <td>-0.0675</td>\n",
       "      <td>0.686</td>\n",
       "      <td>1.5998</td>\n",
       "      <td>-0.0969</td>\n",
       "      <td>-0.546</td>\n",
       "      <td>-0.8805</td>\n",
       "    </tr>\n",
       "    <tr>\n",
       "      <th>TCGA-A1-A0SH-01A-11R-A084-07</th>\n",
       "      <td>0.174583</td>\n",
       "      <td>1.3685</td>\n",
       "      <td>0.007</td>\n",
       "      <td>0.2325</td>\n",
       "      <td>1.844667</td>\n",
       "      <td>0.17925</td>\n",
       "      <td>0.6395</td>\n",
       "      <td>-0.05175</td>\n",
       "      <td>-0.47675</td>\n",
       "      <td>-0.138</td>\n",
       "      <td>...</td>\n",
       "      <td>0.027167</td>\n",
       "      <td>-0.02175</td>\n",
       "      <td>-0.2815</td>\n",
       "      <td>0.5805</td>\n",
       "      <td>0.278</td>\n",
       "      <td>0.24475</td>\n",
       "      <td>0.0275</td>\n",
       "      <td>-0.2257</td>\n",
       "      <td>-0.613</td>\n",
       "      <td>-0.491</td>\n",
       "    </tr>\n",
       "    <tr>\n",
       "      <th>TCGA-A1-A0SJ-01A-11R-A084-07</th>\n",
       "      <td>0.590083</td>\n",
       "      <td>-0.453</td>\n",
       "      <td>-0.295125</td>\n",
       "      <td>0.66525</td>\n",
       "      <td>-0.530167</td>\n",
       "      <td>0.12225</td>\n",
       "      <td>0.47</td>\n",
       "      <td>-0.02375</td>\n",
       "      <td>-0.421375</td>\n",
       "      <td>0.2545</td>\n",
       "      <td>...</td>\n",
       "      <td>0.483833</td>\n",
       "      <td>0.2475</td>\n",
       "      <td>0.615667</td>\n",
       "      <td>-0.0739</td>\n",
       "      <td>-0.448</td>\n",
       "      <td>0.7325</td>\n",
       "      <td>2.6229</td>\n",
       "      <td>0.3027</td>\n",
       "      <td>2.0545</td>\n",
       "      <td>-0.4711</td>\n",
       "    </tr>\n",
       "    <tr>\n",
       "      <th>TCGA-A1-A0SK-01A-12R-A084-07</th>\n",
       "      <td>1.125417</td>\n",
       "      <td>-1.528</td>\n",
       "      <td>0.08275</td>\n",
       "      <td>0.85075</td>\n",
       "      <td>-1.674</td>\n",
       "      <td>-0.849</td>\n",
       "      <td>-1.1125</td>\n",
       "      <td>0.732</td>\n",
       "      <td>0.23375</td>\n",
       "      <td>-0.494</td>\n",
       "      <td>...</td>\n",
       "      <td>-0.640833</td>\n",
       "      <td>0.13075</td>\n",
       "      <td>0.081</td>\n",
       "      <td>0.627</td>\n",
       "      <td>-0.239</td>\n",
       "      <td>-0.26475</td>\n",
       "      <td>-0.9026</td>\n",
       "      <td>-0.0246</td>\n",
       "      <td>-0.564</td>\n",
       "      <td>-0.359</td>\n",
       "    </tr>\n",
       "  </tbody>\n",
       "</table>\n",
       "<p>5 rows × 17814 columns</p>\n",
       "</div>"
      ],
      "text/plain": [
       "NAME                             ELMO2  CREB3L1     RPS11    PNMA1      MMP2  \\\n",
       "TCGA-A1-A0SD-01A-11R-A115-07  0.220167  0.54375  0.354875   0.4335  1.065167   \n",
       "TCGA-A1-A0SE-01A-11R-A084-07   -0.1055      0.0  0.305875  0.03925     0.517   \n",
       "TCGA-A1-A0SH-01A-11R-A084-07  0.174583   1.3685     0.007   0.2325  1.844667   \n",
       "TCGA-A1-A0SJ-01A-11R-A084-07  0.590083   -0.453 -0.295125  0.66525 -0.530167   \n",
       "TCGA-A1-A0SK-01A-12R-A084-07  1.125417   -1.528   0.08275  0.85075    -1.674   \n",
       "\n",
       "NAME                         C10orf90      ZHX3    ERCC5     GPR98   RXFP3  \\\n",
       "TCGA-A1-A0SD-01A-11R-A115-07 -0.11225  0.262333 -0.16625  0.322375  -0.496   \n",
       "TCGA-A1-A0SE-01A-11R-A084-07  1.31575  0.175333  -0.2975     0.067  0.0085   \n",
       "TCGA-A1-A0SH-01A-11R-A084-07  0.17925    0.6395 -0.05175  -0.47675  -0.138   \n",
       "TCGA-A1-A0SJ-01A-11R-A084-07  0.12225      0.47 -0.02375 -0.421375  0.2545   \n",
       "TCGA-A1-A0SK-01A-12R-A084-07   -0.849   -1.1125    0.732   0.23375  -0.494   \n",
       "\n",
       "NAME                          ...   SLC2A11    GRIP2     GPLD1   RAB8A  \\\n",
       "TCGA-A1-A0SD-01A-11R-A115-07  ...  0.308833 -0.00275     0.048 -0.2987   \n",
       "TCGA-A1-A0SE-01A-11R-A084-07  ...  0.214333  0.05975  0.275167  0.2673   \n",
       "TCGA-A1-A0SH-01A-11R-A084-07  ...  0.027167 -0.02175   -0.2815  0.5805   \n",
       "TCGA-A1-A0SJ-01A-11R-A084-07  ...  0.483833   0.2475  0.615667 -0.0739   \n",
       "TCGA-A1-A0SK-01A-12R-A084-07  ... -0.640833  0.13075     0.081   0.627   \n",
       "\n",
       "NAME                           RXFP2  PIK3IP1 SLC39A6  SNRPD2    AQP7    CTSC  \n",
       "TCGA-A1-A0SD-01A-11R-A115-07  0.0625  -0.1575  0.1907  0.0472 -0.1925 -0.7193  \n",
       "TCGA-A1-A0SE-01A-11R-A084-07 -0.0675    0.686  1.5998 -0.0969  -0.546 -0.8805  \n",
       "TCGA-A1-A0SH-01A-11R-A084-07   0.278  0.24475  0.0275 -0.2257  -0.613  -0.491  \n",
       "TCGA-A1-A0SJ-01A-11R-A084-07  -0.448   0.7325  2.6229  0.3027  2.0545 -0.4711  \n",
       "TCGA-A1-A0SK-01A-12R-A084-07  -0.239 -0.26475 -0.9026 -0.0246  -0.564  -0.359  \n",
       "\n",
       "[5 rows x 17814 columns]"
      ]
     },
     "execution_count": 7,
     "metadata": {},
     "output_type": "execute_result"
    }
   ],
   "source": [
    "df_expression.head()"
   ]
  },
  {
   "cell_type": "markdown",
   "id": "e77e27af",
   "metadata": {
    "id": "e77e27af"
   },
   "source": [
    "### Merging into a Single Dataset"
   ]
  },
  {
   "cell_type": "code",
   "execution_count": 8,
   "id": "6d838fe3",
   "metadata": {
    "colab": {
     "base_uri": "https://localhost:8080/",
     "height": 820
    },
    "id": "6d838fe3",
    "outputId": "717f0d19-bb86-40dc-da47-546c82294f45"
   },
   "outputs": [
    {
     "data": {
      "text/html": [
       "<div>\n",
       "<style scoped>\n",
       "    .dataframe tbody tr th:only-of-type {\n",
       "        vertical-align: middle;\n",
       "    }\n",
       "\n",
       "    .dataframe tbody tr th {\n",
       "        vertical-align: top;\n",
       "    }\n",
       "\n",
       "    .dataframe thead th {\n",
       "        text-align: right;\n",
       "    }\n",
       "</style>\n",
       "<table border=\"1\" class=\"dataframe\">\n",
       "  <thead>\n",
       "    <tr style=\"text-align: right;\">\n",
       "      <th></th>\n",
       "      <th>Type</th>\n",
       "      <th>Siglust</th>\n",
       "      <th>Subtype</th>\n",
       "      <th>ELMO2</th>\n",
       "      <th>CREB3L1</th>\n",
       "      <th>RPS11</th>\n",
       "      <th>PNMA1</th>\n",
       "      <th>MMP2</th>\n",
       "      <th>C10orf90</th>\n",
       "      <th>ZHX3</th>\n",
       "      <th>...</th>\n",
       "      <th>CSF2</th>\n",
       "      <th>SLC2A11</th>\n",
       "      <th>GRIP2</th>\n",
       "      <th>GPLD1</th>\n",
       "      <th>RAB8A</th>\n",
       "      <th>PIK3IP1</th>\n",
       "      <th>SLC39A6</th>\n",
       "      <th>SNRPD2</th>\n",
       "      <th>AQP7</th>\n",
       "      <th>CTSC</th>\n",
       "    </tr>\n",
       "  </thead>\n",
       "  <tbody>\n",
       "    <tr>\n",
       "      <th>TCGA-A1-A0SD-01A-11R-A115-07</th>\n",
       "      <td>tumor</td>\n",
       "      <td>-9</td>\n",
       "      <td>LumA</td>\n",
       "      <td>0.220167</td>\n",
       "      <td>0.54375</td>\n",
       "      <td>0.354875</td>\n",
       "      <td>0.4335</td>\n",
       "      <td>1.065167</td>\n",
       "      <td>-0.11225</td>\n",
       "      <td>0.262333</td>\n",
       "      <td>...</td>\n",
       "      <td>-0.43375</td>\n",
       "      <td>0.308833</td>\n",
       "      <td>-0.00275</td>\n",
       "      <td>0.048</td>\n",
       "      <td>-0.2987</td>\n",
       "      <td>-0.1575</td>\n",
       "      <td>0.1907</td>\n",
       "      <td>0.0472</td>\n",
       "      <td>-0.1925</td>\n",
       "      <td>-0.7193</td>\n",
       "    </tr>\n",
       "    <tr>\n",
       "      <th>TCGA-A1-A0SE-01A-11R-A084-07</th>\n",
       "      <td>tumor</td>\n",
       "      <td>-5</td>\n",
       "      <td>LumA</td>\n",
       "      <td>-0.1055</td>\n",
       "      <td>0.0</td>\n",
       "      <td>0.305875</td>\n",
       "      <td>0.03925</td>\n",
       "      <td>0.517</td>\n",
       "      <td>1.31575</td>\n",
       "      <td>0.175333</td>\n",
       "      <td>...</td>\n",
       "      <td>-0.1675</td>\n",
       "      <td>0.214333</td>\n",
       "      <td>0.05975</td>\n",
       "      <td>0.275167</td>\n",
       "      <td>0.2673</td>\n",
       "      <td>0.686</td>\n",
       "      <td>1.5998</td>\n",
       "      <td>-0.0969</td>\n",
       "      <td>-0.546</td>\n",
       "      <td>-0.8805</td>\n",
       "    </tr>\n",
       "    <tr>\n",
       "      <th>TCGA-A1-A0SH-01A-11R-A084-07</th>\n",
       "      <td>tumor</td>\n",
       "      <td>-5</td>\n",
       "      <td>LumA</td>\n",
       "      <td>0.174583</td>\n",
       "      <td>1.3685</td>\n",
       "      <td>0.007</td>\n",
       "      <td>0.2325</td>\n",
       "      <td>1.844667</td>\n",
       "      <td>0.17925</td>\n",
       "      <td>0.6395</td>\n",
       "      <td>...</td>\n",
       "      <td>-0.258</td>\n",
       "      <td>0.027167</td>\n",
       "      <td>-0.02175</td>\n",
       "      <td>-0.2815</td>\n",
       "      <td>0.5805</td>\n",
       "      <td>0.24475</td>\n",
       "      <td>0.0275</td>\n",
       "      <td>-0.2257</td>\n",
       "      <td>-0.613</td>\n",
       "      <td>-0.491</td>\n",
       "    </tr>\n",
       "    <tr>\n",
       "      <th>TCGA-A1-A0SJ-01A-11R-A084-07</th>\n",
       "      <td>tumor</td>\n",
       "      <td>-3</td>\n",
       "      <td>LumA</td>\n",
       "      <td>0.590083</td>\n",
       "      <td>-0.453</td>\n",
       "      <td>-0.295125</td>\n",
       "      <td>0.66525</td>\n",
       "      <td>-0.530167</td>\n",
       "      <td>0.12225</td>\n",
       "      <td>0.47</td>\n",
       "      <td>...</td>\n",
       "      <td>-0.415</td>\n",
       "      <td>0.483833</td>\n",
       "      <td>0.2475</td>\n",
       "      <td>0.615667</td>\n",
       "      <td>-0.0739</td>\n",
       "      <td>0.7325</td>\n",
       "      <td>2.6229</td>\n",
       "      <td>0.3027</td>\n",
       "      <td>2.0545</td>\n",
       "      <td>-0.4711</td>\n",
       "    </tr>\n",
       "    <tr>\n",
       "      <th>TCGA-A1-A0SK-01A-12R-A084-07</th>\n",
       "      <td>tumor</td>\n",
       "      <td>-13</td>\n",
       "      <td>Basal</td>\n",
       "      <td>1.125417</td>\n",
       "      <td>-1.528</td>\n",
       "      <td>0.08275</td>\n",
       "      <td>0.85075</td>\n",
       "      <td>-1.674</td>\n",
       "      <td>-0.849</td>\n",
       "      <td>-1.1125</td>\n",
       "      <td>...</td>\n",
       "      <td>-1.12875</td>\n",
       "      <td>-0.640833</td>\n",
       "      <td>0.13075</td>\n",
       "      <td>0.081</td>\n",
       "      <td>0.627</td>\n",
       "      <td>-0.26475</td>\n",
       "      <td>-0.9026</td>\n",
       "      <td>-0.0246</td>\n",
       "      <td>-0.564</td>\n",
       "      <td>-0.359</td>\n",
       "    </tr>\n",
       "  </tbody>\n",
       "</table>\n",
       "<p>5 rows × 17319 columns</p>\n",
       "</div>"
      ],
      "text/plain": [
       "                               Type  Siglust Subtype     ELMO2  CREB3L1  \\\n",
       "TCGA-A1-A0SD-01A-11R-A115-07  tumor       -9    LumA  0.220167  0.54375   \n",
       "TCGA-A1-A0SE-01A-11R-A084-07  tumor       -5    LumA   -0.1055      0.0   \n",
       "TCGA-A1-A0SH-01A-11R-A084-07  tumor       -5    LumA  0.174583   1.3685   \n",
       "TCGA-A1-A0SJ-01A-11R-A084-07  tumor       -3    LumA  0.590083   -0.453   \n",
       "TCGA-A1-A0SK-01A-12R-A084-07  tumor      -13   Basal  1.125417   -1.528   \n",
       "\n",
       "                                 RPS11    PNMA1      MMP2 C10orf90      ZHX3  \\\n",
       "TCGA-A1-A0SD-01A-11R-A115-07  0.354875   0.4335  1.065167 -0.11225  0.262333   \n",
       "TCGA-A1-A0SE-01A-11R-A084-07  0.305875  0.03925     0.517  1.31575  0.175333   \n",
       "TCGA-A1-A0SH-01A-11R-A084-07     0.007   0.2325  1.844667  0.17925    0.6395   \n",
       "TCGA-A1-A0SJ-01A-11R-A084-07 -0.295125  0.66525 -0.530167  0.12225      0.47   \n",
       "TCGA-A1-A0SK-01A-12R-A084-07   0.08275  0.85075    -1.674   -0.849   -1.1125   \n",
       "\n",
       "                              ...     CSF2   SLC2A11    GRIP2     GPLD1  \\\n",
       "TCGA-A1-A0SD-01A-11R-A115-07  ... -0.43375  0.308833 -0.00275     0.048   \n",
       "TCGA-A1-A0SE-01A-11R-A084-07  ...  -0.1675  0.214333  0.05975  0.275167   \n",
       "TCGA-A1-A0SH-01A-11R-A084-07  ...   -0.258  0.027167 -0.02175   -0.2815   \n",
       "TCGA-A1-A0SJ-01A-11R-A084-07  ...   -0.415  0.483833   0.2475  0.615667   \n",
       "TCGA-A1-A0SK-01A-12R-A084-07  ... -1.12875 -0.640833  0.13075     0.081   \n",
       "\n",
       "                               RAB8A  PIK3IP1 SLC39A6  SNRPD2    AQP7    CTSC  \n",
       "TCGA-A1-A0SD-01A-11R-A115-07 -0.2987  -0.1575  0.1907  0.0472 -0.1925 -0.7193  \n",
       "TCGA-A1-A0SE-01A-11R-A084-07  0.2673    0.686  1.5998 -0.0969  -0.546 -0.8805  \n",
       "TCGA-A1-A0SH-01A-11R-A084-07  0.5805  0.24475  0.0275 -0.2257  -0.613  -0.491  \n",
       "TCGA-A1-A0SJ-01A-11R-A084-07 -0.0739   0.7325  2.6229  0.3027  2.0545 -0.4711  \n",
       "TCGA-A1-A0SK-01A-12R-A084-07   0.627 -0.26475 -0.9026 -0.0246  -0.564  -0.359  \n",
       "\n",
       "[5 rows x 17319 columns]"
      ]
     },
     "execution_count": 8,
     "metadata": {},
     "output_type": "execute_result"
    }
   ],
   "source": [
    "# dropping genes instead of individuals due to small sample size (dropping individuals almost cut sample in half)\n",
    "df_combined = df_subtype.merge(df_expression, how=\"outer\", left_index=True, right_index=True).dropna(axis=1)\n",
    "df_combined.head()"
   ]
  },
  {
   "cell_type": "markdown",
   "id": "625d53fb",
   "metadata": {
    "id": "625d53fb"
   },
   "source": [
    "### Creating Random Forest Model"
   ]
  },
  {
   "cell_type": "code",
   "execution_count": 9,
   "id": "5ffa4f04",
   "metadata": {
    "id": "5ffa4f04"
   },
   "outputs": [],
   "source": [
    "X = df_combined.drop([\"Type\", \"Siglust\", \"Subtype\"], axis=1) \n",
    "y = df_combined[[\"Subtype\"]]"
   ]
  },
  {
   "cell_type": "code",
   "execution_count": 10,
   "id": "21514bf6",
   "metadata": {
    "id": "21514bf6"
   },
   "outputs": [],
   "source": [
    "X_train, X_test, y_train, y_test = train_test_split(X, y, test_size=0.30, random_state=5) # 70% training and 30% test"
   ]
  },
  {
   "cell_type": "code",
   "execution_count": 11,
   "id": "3c4bb4d0",
   "metadata": {
    "colab": {
     "base_uri": "https://localhost:8080/"
    },
    "id": "3c4bb4d0",
    "outputId": "86951fbf-5711-430c-f7a9-76887401f7ca"
   },
   "outputs": [
    {
     "data": {
      "text/plain": [
       "RandomForestClassifier()"
      ]
     },
     "execution_count": 11,
     "metadata": {},
     "output_type": "execute_result"
    }
   ],
   "source": [
    "model = RandomForestClassifier()\n",
    "model.fit(X_train, y_train.values.ravel())"
   ]
  },
  {
   "cell_type": "markdown",
   "id": "058f0d14",
   "metadata": {
    "id": "058f0d14"
   },
   "source": [
    "### Evaluating Random Forest Model"
   ]
  },
  {
   "cell_type": "code",
   "execution_count": 12,
   "id": "c6a0836c",
   "metadata": {
    "id": "c6a0836c"
   },
   "outputs": [],
   "source": [
    "y_pred = model.predict(X_test)"
   ]
  },
  {
   "cell_type": "code",
   "execution_count": 13,
   "id": "8bdbc8be",
   "metadata": {
    "colab": {
     "base_uri": "https://localhost:8080/",
     "height": 206
    },
    "id": "8bdbc8be",
    "outputId": "9c280c3a-b6f7-4588-95ec-4fa66cd5e515"
   },
   "outputs": [
    {
     "data": {
      "text/html": [
       "<div>\n",
       "<style scoped>\n",
       "    .dataframe tbody tr th:only-of-type {\n",
       "        vertical-align: middle;\n",
       "    }\n",
       "\n",
       "    .dataframe tbody tr th {\n",
       "        vertical-align: top;\n",
       "    }\n",
       "\n",
       "    .dataframe thead th {\n",
       "        text-align: right;\n",
       "    }\n",
       "</style>\n",
       "<table border=\"1\" class=\"dataframe\">\n",
       "  <thead>\n",
       "    <tr style=\"text-align: right;\">\n",
       "      <th></th>\n",
       "      <th>Actual</th>\n",
       "      <th>Predicted</th>\n",
       "    </tr>\n",
       "  </thead>\n",
       "  <tbody>\n",
       "    <tr>\n",
       "      <th>0</th>\n",
       "      <td>LumA</td>\n",
       "      <td>LumA</td>\n",
       "    </tr>\n",
       "    <tr>\n",
       "      <th>1</th>\n",
       "      <td>Basal</td>\n",
       "      <td>Basal</td>\n",
       "    </tr>\n",
       "    <tr>\n",
       "      <th>2</th>\n",
       "      <td>LumA</td>\n",
       "      <td>LumA</td>\n",
       "    </tr>\n",
       "    <tr>\n",
       "      <th>3</th>\n",
       "      <td>LumA</td>\n",
       "      <td>LumA</td>\n",
       "    </tr>\n",
       "    <tr>\n",
       "      <th>4</th>\n",
       "      <td>LumA</td>\n",
       "      <td>LumA</td>\n",
       "    </tr>\n",
       "  </tbody>\n",
       "</table>\n",
       "</div>"
      ],
      "text/plain": [
       "  Actual Predicted\n",
       "0   LumA      LumA\n",
       "1  Basal     Basal\n",
       "2   LumA      LumA\n",
       "3   LumA      LumA\n",
       "4   LumA      LumA"
      ]
     },
     "execution_count": 13,
     "metadata": {},
     "output_type": "execute_result"
    }
   ],
   "source": [
    "df_comparison = pd.DataFrame(zip(list(y_test['Subtype']), list(y_pred)), columns=['Actual','Predicted'])\n",
    "df_comparison.head()"
   ]
  },
  {
   "cell_type": "code",
   "execution_count": 14,
   "id": "d8b165db",
   "metadata": {
    "colab": {
     "base_uri": "https://localhost:8080/",
     "height": 238
    },
    "id": "d8b165db",
    "outputId": "95220bab-ec89-41cb-efbc-48ad46c6837a"
   },
   "outputs": [
    {
     "data": {
      "text/html": [
       "<div>\n",
       "<style scoped>\n",
       "    .dataframe tbody tr th:only-of-type {\n",
       "        vertical-align: middle;\n",
       "    }\n",
       "\n",
       "    .dataframe tbody tr th {\n",
       "        vertical-align: top;\n",
       "    }\n",
       "\n",
       "    .dataframe thead th {\n",
       "        text-align: right;\n",
       "    }\n",
       "</style>\n",
       "<table border=\"1\" class=\"dataframe\">\n",
       "  <thead>\n",
       "    <tr style=\"text-align: right;\">\n",
       "      <th>Predicted</th>\n",
       "      <th>Basal</th>\n",
       "      <th>Her2</th>\n",
       "      <th>LumA</th>\n",
       "      <th>LumB</th>\n",
       "      <th>Normal</th>\n",
       "    </tr>\n",
       "    <tr>\n",
       "      <th>Actual</th>\n",
       "      <th></th>\n",
       "      <th></th>\n",
       "      <th></th>\n",
       "      <th></th>\n",
       "      <th></th>\n",
       "    </tr>\n",
       "  </thead>\n",
       "  <tbody>\n",
       "    <tr>\n",
       "      <th>Basal</th>\n",
       "      <td>23</td>\n",
       "      <td>0</td>\n",
       "      <td>0</td>\n",
       "      <td>0</td>\n",
       "      <td>0</td>\n",
       "    </tr>\n",
       "    <tr>\n",
       "      <th>Her2</th>\n",
       "      <td>0</td>\n",
       "      <td>9</td>\n",
       "      <td>1</td>\n",
       "      <td>7</td>\n",
       "      <td>0</td>\n",
       "    </tr>\n",
       "    <tr>\n",
       "      <th>LumA</th>\n",
       "      <td>0</td>\n",
       "      <td>0</td>\n",
       "      <td>76</td>\n",
       "      <td>2</td>\n",
       "      <td>0</td>\n",
       "    </tr>\n",
       "    <tr>\n",
       "      <th>LumB</th>\n",
       "      <td>0</td>\n",
       "      <td>0</td>\n",
       "      <td>7</td>\n",
       "      <td>30</td>\n",
       "      <td>0</td>\n",
       "    </tr>\n",
       "    <tr>\n",
       "      <th>Normal</th>\n",
       "      <td>0</td>\n",
       "      <td>0</td>\n",
       "      <td>1</td>\n",
       "      <td>0</td>\n",
       "      <td>9</td>\n",
       "    </tr>\n",
       "  </tbody>\n",
       "</table>\n",
       "</div>"
      ],
      "text/plain": [
       "Predicted  Basal  Her2  LumA  LumB  Normal\n",
       "Actual                                    \n",
       "Basal         23     0     0     0       0\n",
       "Her2           0     9     1     7       0\n",
       "LumA           0     0    76     2       0\n",
       "LumB           0     0     7    30       0\n",
       "Normal         0     0     1     0       9"
      ]
     },
     "execution_count": 14,
     "metadata": {},
     "output_type": "execute_result"
    }
   ],
   "source": [
    "confusion_matrix = pd.crosstab(df_comparison['Actual'], df_comparison['Predicted'], rownames=['Actual'], colnames=['Predicted'])\n",
    "confusion_matrix"
   ]
  },
  {
   "cell_type": "code",
   "execution_count": 15,
   "id": "ebbb36d3",
   "metadata": {
    "id": "ebbb36d3"
   },
   "outputs": [],
   "source": [
    "precision_scores = precision_score(list(y_test['Subtype']), list(y_pred), average=None)\n",
    "precision_scores = [round(i, 2) for i in precision_scores]\n",
    "recall_scores = recall_score(list(y_test['Subtype']), list(y_pred), average=None)\n",
    "recall_scores = [round(i, 2) for i in recall_scores]"
   ]
  },
  {
   "cell_type": "code",
   "execution_count": 16,
   "id": "238cde3b",
   "metadata": {
    "colab": {
     "base_uri": "https://localhost:8080/",
     "height": 238
    },
    "id": "238cde3b",
    "outputId": "6939addf-a2d0-40dc-97b0-ec010cca1962"
   },
   "outputs": [
    {
     "data": {
      "text/html": [
       "<div>\n",
       "<style scoped>\n",
       "    .dataframe tbody tr th:only-of-type {\n",
       "        vertical-align: middle;\n",
       "    }\n",
       "\n",
       "    .dataframe tbody tr th {\n",
       "        vertical-align: top;\n",
       "    }\n",
       "\n",
       "    .dataframe thead th {\n",
       "        text-align: right;\n",
       "    }\n",
       "</style>\n",
       "<table border=\"1\" class=\"dataframe\">\n",
       "  <thead>\n",
       "    <tr style=\"text-align: right;\">\n",
       "      <th></th>\n",
       "      <th>Precision</th>\n",
       "      <th>Recall</th>\n",
       "    </tr>\n",
       "    <tr>\n",
       "      <th>Class</th>\n",
       "      <th></th>\n",
       "      <th></th>\n",
       "    </tr>\n",
       "  </thead>\n",
       "  <tbody>\n",
       "    <tr>\n",
       "      <th>Basal</th>\n",
       "      <td>1.00</td>\n",
       "      <td>1.00</td>\n",
       "    </tr>\n",
       "    <tr>\n",
       "      <th>Her2</th>\n",
       "      <td>1.00</td>\n",
       "      <td>0.53</td>\n",
       "    </tr>\n",
       "    <tr>\n",
       "      <th>LumA</th>\n",
       "      <td>0.89</td>\n",
       "      <td>0.97</td>\n",
       "    </tr>\n",
       "    <tr>\n",
       "      <th>LumB</th>\n",
       "      <td>0.77</td>\n",
       "      <td>0.81</td>\n",
       "    </tr>\n",
       "    <tr>\n",
       "      <th>Normal</th>\n",
       "      <td>1.00</td>\n",
       "      <td>0.90</td>\n",
       "    </tr>\n",
       "  </tbody>\n",
       "</table>\n",
       "</div>"
      ],
      "text/plain": [
       "        Precision  Recall\n",
       "Class                    \n",
       "Basal        1.00    1.00\n",
       "Her2         1.00    0.53\n",
       "LumA         0.89    0.97\n",
       "LumB         0.77    0.81\n",
       "Normal       1.00    0.90"
      ]
     },
     "execution_count": 16,
     "metadata": {},
     "output_type": "execute_result"
    }
   ],
   "source": [
    "df_scores = pd.DataFrame(zip(precision_scores, recall_scores, confusion_matrix.columns), columns=['Precision','Recall', 'Class'])\n",
    "df_scores = df_scores.set_index('Class')\n",
    "df_scores"
   ]
  },
  {
   "cell_type": "code",
   "execution_count": 17,
   "id": "c7721aca",
   "metadata": {
    "colab": {
     "base_uri": "https://localhost:8080/",
     "height": 575
    },
    "id": "c7721aca",
    "outputId": "d06b4a95-fb10-412d-f218-91d8dde01a44"
   },
   "outputs": [
    {
     "data": {
      "image/png": "[encoded data removed]",
      "text/plain": [
       "<Figure size 1080x720 with 1 Axes>"
      ]
     },
     "metadata": {
      "needs_background": "light"
     },
     "output_type": "display_data"
    }
   ],
   "source": [
    "fig = plt.figure(figsize=(15, 10))\n",
    "plot_tree(model.estimators_[0], \n",
    "          feature_names=X.columns,\n",
    "          class_names=df_combined['Subtype'].unique(), \n",
    "          filled=True, rounded=True)\n",
    "\n",
    "plt.show()"
   ]
  },
  {
   "cell_type": "markdown",
   "id": "4caa46ee",
   "metadata": {
    "id": "4caa46ee"
   },
   "source": [
    "### Genes Importance given by Random Regressor Classifier"
   ]
  },
  {
   "cell_type": "code",
   "execution_count": 18,
   "id": "d740c8d9",
   "metadata": {
    "colab": {
     "base_uri": "https://localhost:8080/"
    },
    "id": "d740c8d9",
    "outputId": "9e29875b-5552-4fcf-9370-fa8de0efbdde"
   },
   "outputs": [
    {
     "data": {
      "text/plain": [
       "array([0.        , 0.00013915, 0.        , ..., 0.        , 0.        ,\n",
       "       0.        ])"
      ]
     },
     "execution_count": 18,
     "metadata": {},
     "output_type": "execute_result"
    }
   ],
   "source": [
    "model.feature_importances_"
   ]
  },
  {
   "cell_type": "code",
   "execution_count": 19,
   "id": "91b2f576",
   "metadata": {
    "colab": {
     "base_uri": "https://localhost:8080/"
    },
    "id": "91b2f576",
    "outputId": "f614a53d-5923-4144-c6ea-692e2337e6c9"
   },
   "outputs": [
    {
     "data": {
      "text/plain": [
       "Index(['ELMO2', 'CREB3L1', 'RPS11', 'PNMA1', 'MMP2', 'C10orf90', 'ZHX3',\n",
       "       'ERCC5', 'GPR98', 'RXFP3',\n",
       "       ...\n",
       "       'CSF2', 'SLC2A11', 'GRIP2', 'GPLD1', 'RAB8A', 'PIK3IP1', 'SLC39A6',\n",
       "       'SNRPD2', 'AQP7', 'CTSC'],\n",
       "      dtype='object', length=17316)"
      ]
     },
     "execution_count": 19,
     "metadata": {},
     "output_type": "execute_result"
    }
   ],
   "source": [
    "X.columns"
   ]
  },
  {
   "cell_type": "code",
   "execution_count": 20,
   "id": "4f646d8a",
   "metadata": {
    "colab": {
     "base_uri": "https://localhost:8080/",
     "height": 708
    },
    "id": "4f646d8a",
    "outputId": "eb83bc5e-947d-4843-e141-6050642a5636"
   },
   "outputs": [
    {
     "data": {
      "text/html": [
       "<div>\n",
       "<style scoped>\n",
       "    .dataframe tbody tr th:only-of-type {\n",
       "        vertical-align: middle;\n",
       "    }\n",
       "\n",
       "    .dataframe tbody tr th {\n",
       "        vertical-align: top;\n",
       "    }\n",
       "\n",
       "    .dataframe thead th {\n",
       "        text-align: right;\n",
       "    }\n",
       "</style>\n",
       "<table border=\"1\" class=\"dataframe\">\n",
       "  <thead>\n",
       "    <tr style=\"text-align: right;\">\n",
       "      <th></th>\n",
       "      <th>Importance</th>\n",
       "    </tr>\n",
       "    <tr>\n",
       "      <th>Gene</th>\n",
       "      <th></th>\n",
       "    </tr>\n",
       "  </thead>\n",
       "  <tbody>\n",
       "    <tr>\n",
       "      <th>ESR1</th>\n",
       "      <td>0.009581</td>\n",
       "    </tr>\n",
       "    <tr>\n",
       "      <th>TBC1D9</th>\n",
       "      <td>0.008648</td>\n",
       "    </tr>\n",
       "    <tr>\n",
       "      <th>CA12</th>\n",
       "      <td>0.008245</td>\n",
       "    </tr>\n",
       "    <tr>\n",
       "      <th>SPC25</th>\n",
       "      <td>0.007533</td>\n",
       "    </tr>\n",
       "    <tr>\n",
       "      <th>NDC80</th>\n",
       "      <td>0.006821</td>\n",
       "    </tr>\n",
       "    <tr>\n",
       "      <th>AGR2</th>\n",
       "      <td>0.006530</td>\n",
       "    </tr>\n",
       "    <tr>\n",
       "      <th>KIF4A</th>\n",
       "      <td>0.005859</td>\n",
       "    </tr>\n",
       "    <tr>\n",
       "      <th>C6orf97</th>\n",
       "      <td>0.005301</td>\n",
       "    </tr>\n",
       "    <tr>\n",
       "      <th>MLPH</th>\n",
       "      <td>0.005216</td>\n",
       "    </tr>\n",
       "    <tr>\n",
       "      <th>CDC45L</th>\n",
       "      <td>0.005028</td>\n",
       "    </tr>\n",
       "    <tr>\n",
       "      <th>FOXL1</th>\n",
       "      <td>0.004757</td>\n",
       "    </tr>\n",
       "    <tr>\n",
       "      <th>XBP1</th>\n",
       "      <td>0.004748</td>\n",
       "    </tr>\n",
       "    <tr>\n",
       "      <th>SGOL1</th>\n",
       "      <td>0.004591</td>\n",
       "    </tr>\n",
       "    <tr>\n",
       "      <th>SRrp35</th>\n",
       "      <td>0.004425</td>\n",
       "    </tr>\n",
       "    <tr>\n",
       "      <th>CIRBP</th>\n",
       "      <td>0.004280</td>\n",
       "    </tr>\n",
       "    <tr>\n",
       "      <th>ERBB3</th>\n",
       "      <td>0.004184</td>\n",
       "    </tr>\n",
       "    <tr>\n",
       "      <th>MCM10</th>\n",
       "      <td>0.004139</td>\n",
       "    </tr>\n",
       "    <tr>\n",
       "      <th>C10orf38</th>\n",
       "      <td>0.004085</td>\n",
       "    </tr>\n",
       "    <tr>\n",
       "      <th>BUB1</th>\n",
       "      <td>0.004080</td>\n",
       "    </tr>\n",
       "    <tr>\n",
       "      <th>CENPA</th>\n",
       "      <td>0.003914</td>\n",
       "    </tr>\n",
       "  </tbody>\n",
       "</table>\n",
       "</div>"
      ],
      "text/plain": [
       "          Importance\n",
       "Gene                \n",
       "ESR1        0.009581\n",
       "TBC1D9      0.008648\n",
       "CA12        0.008245\n",
       "SPC25       0.007533\n",
       "NDC80       0.006821\n",
       "AGR2        0.006530\n",
       "KIF4A       0.005859\n",
       "C6orf97     0.005301\n",
       "MLPH        0.005216\n",
       "CDC45L      0.005028\n",
       "FOXL1       0.004757\n",
       "XBP1        0.004748\n",
       "SGOL1       0.004591\n",
       "SRrp35      0.004425\n",
       "CIRBP       0.004280\n",
       "ERBB3       0.004184\n",
       "MCM10       0.004139\n",
       "C10orf38    0.004085\n",
       "BUB1        0.004080\n",
       "CENPA       0.003914"
      ]
     },
     "execution_count": 20,
     "metadata": {},
     "output_type": "execute_result"
    }
   ],
   "source": [
    "# sorted descending by importance\n",
    "df_importance = pd.DataFrame(zip(X.columns, list(model.feature_importances_)), columns=[\"Gene\", \"Importance\"]).set_index(\"Gene\").sort_values(by=\"Importance\", ascending = False)\n",
    "df_importance.head(20)"
   ]
  },
  {
   "cell_type": "code",
   "execution_count": 21,
   "id": "e32d4394",
   "metadata": {
    "colab": {
     "base_uri": "https://localhost:8080/"
    },
    "id": "e32d4394",
    "outputId": "cf1de3e8-6255-406f-ea3a-eb2f6abbc890"
   },
   "outputs": [
    {
     "data": {
      "text/plain": [
       "LumA      232\n",
       "LumB      129\n",
       "Basal      98\n",
       "Her2       58\n",
       "Normal     30\n",
       "Name: Subtype, dtype: int64"
      ]
     },
     "execution_count": 21,
     "metadata": {},
     "output_type": "execute_result"
    }
   ],
   "source": [
    "df_subtype[\"Subtype\"].value_counts()"
   ]
  }
 ],
 "metadata": {
  "colab": {
   "name": "Random Forest Classification For Breast Cancer Subtypes",
   "provenance": []
  },
  "kernelspec": {
   "display_name": "Python 3 (ipykernel)",
   "language": "python",
   "name": "python3"
  },
  "language_info": {
   "codemirror_mode": {
    "name": "ipython",
    "version": 3
   },
   "file_extension": ".py",
   "mimetype": "text/x-python",
   "name": "python",
   "nbconvert_exporter": "python",
   "pygments_lexer": "ipython3",
   "version": "3.8.12"
  }
 },
 "nbformat": 4,
 "nbformat_minor": 5
}
