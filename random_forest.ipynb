{
 "cells": [
  {
   "cell_type": "markdown",
   "id": "7563f0ef",
   "metadata": {
    "colab_type": "text",
    "id": "view-in-github"
   },
   "source": [
    "<a href=\"https://colab.research.google.com/github/jcavalca/breast-cancer-research/blob/main/random_forest.ipynb\" target=\"_parent\"><img src=\"https://colab.research.google.com/assets/colab-badge.svg\" alt=\"Open In Colab\"/></a>"
   ]
  },
  {
   "cell_type": "markdown",
   "id": "b74c42ec",
   "metadata": {
    "id": "b74c42ec"
   },
   "source": [
    "### Importing Necessary Packages and Functions"
   ]
  },
  {
   "cell_type": "code",
   "execution_count": 1,
   "id": "a9e961ef",
   "metadata": {
    "id": "a9e961ef"
   },
   "outputs": [],
   "source": [
    "import pandas as pd\n",
    "from sklearn.ensemble import RandomForestClassifier\n",
    "from sklearn.model_selection import train_test_split\n",
    "from sklearn.metrics import accuracy_score\n",
    "import matplotlib.pyplot as plt\n",
    "from sklearn.tree import plot_tree\n",
    "from sklearn.metrics import precision_score\n",
    "from sklearn.metrics import recall_score\n"
   ]
  },
  {
   "cell_type": "markdown",
   "id": "30c70ec2",
   "metadata": {
    "id": "30c70ec2"
   },
   "source": [
    "### Reading Subtype Dataset"
   ]
  },
  {
   "cell_type": "code",
   "execution_count": 2,
   "id": "5b6700fd",
   "metadata": {
    "id": "5b6700fd"
   },
   "outputs": [],
   "source": [
    "df_subtype = pd.read_csv(\"BRCA.547.PAM50.SigClust.Subtypes.txt\", sep=\"\\t\")"
   ]
  },
  {
   "cell_type": "code",
   "execution_count": 3,
   "id": "201726b2",
   "metadata": {
    "id": "201726b2"
   },
   "outputs": [],
   "source": [
    "df_subtype = df_subtype.set_index(\"Sample\")\n",
    "df_subtype.rename(columns = {'PAM50':'Subtype'}, inplace = True)"
   ]
  },
  {
   "cell_type": "code",
   "execution_count": 4,
   "id": "309c5cd9",
   "metadata": {
    "colab": {
     "base_uri": "https://localhost:8080/",
     "height": 238
    },
    "id": "309c5cd9",
    "outputId": "4e5103df-a00e-4352-b725-626934a44d37"
   },
   "outputs": [
    {
     "data": {
      "text/html": [
       "<div>\n",
       "<style scoped>\n",
       "    .dataframe tbody tr th:only-of-type {\n",
       "        vertical-align: middle;\n",
       "    }\n",
       "\n",
       "    .dataframe tbody tr th {\n",
       "        vertical-align: top;\n",
       "    }\n",
       "\n",
       "    .dataframe thead th {\n",
       "        text-align: right;\n",
       "    }\n",
       "</style>\n",
       "<table border=\"1\" class=\"dataframe\">\n",
       "  <thead>\n",
       "    <tr style=\"text-align: right;\">\n",
       "      <th></th>\n",
       "      <th>Type</th>\n",
       "      <th>Siglust</th>\n",
       "      <th>Subtype</th>\n",
       "    </tr>\n",
       "    <tr>\n",
       "      <th>Sample</th>\n",
       "      <th></th>\n",
       "      <th></th>\n",
       "      <th></th>\n",
       "    </tr>\n",
       "  </thead>\n",
       "  <tbody>\n",
       "    <tr>\n",
       "      <th>TCGA-AN-A0FL-01A-11R-A034-07</th>\n",
       "      <td>tumor</td>\n",
       "      <td>-13</td>\n",
       "      <td>Basal</td>\n",
       "    </tr>\n",
       "    <tr>\n",
       "      <th>TCGA-A1-A0SK-01A-12R-A084-07</th>\n",
       "      <td>tumor</td>\n",
       "      <td>-13</td>\n",
       "      <td>Basal</td>\n",
       "    </tr>\n",
       "    <tr>\n",
       "      <th>TCGA-BH-A0HL-01A-11R-A034-07</th>\n",
       "      <td>tumor</td>\n",
       "      <td>-13</td>\n",
       "      <td>Basal</td>\n",
       "    </tr>\n",
       "    <tr>\n",
       "      <th>TCGA-BH-A0HN-01A-11R-A084-07</th>\n",
       "      <td>tumor</td>\n",
       "      <td>-13</td>\n",
       "      <td>Basal</td>\n",
       "    </tr>\n",
       "    <tr>\n",
       "      <th>TCGA-BH-A0E0-01A-11R-A056-07</th>\n",
       "      <td>tumor</td>\n",
       "      <td>-13</td>\n",
       "      <td>Basal</td>\n",
       "    </tr>\n",
       "  </tbody>\n",
       "</table>\n",
       "</div>"
      ],
      "text/plain": [
       "                               Type  Siglust Subtype\n",
       "Sample                                              \n",
       "TCGA-AN-A0FL-01A-11R-A034-07  tumor      -13   Basal\n",
       "TCGA-A1-A0SK-01A-12R-A084-07  tumor      -13   Basal\n",
       "TCGA-BH-A0HL-01A-11R-A034-07  tumor      -13   Basal\n",
       "TCGA-BH-A0HN-01A-11R-A084-07  tumor      -13   Basal\n",
       "TCGA-BH-A0E0-01A-11R-A056-07  tumor      -13   Basal"
      ]
     },
     "execution_count": 4,
     "metadata": {},
     "output_type": "execute_result"
    }
   ],
   "source": [
    "df_subtype.head()"
   ]
  },
  {
   "cell_type": "markdown",
   "id": "acb75ea5",
   "metadata": {
    "id": "acb75ea5"
   },
   "source": [
    "\\### Reading Gene Expression Dataset"
   ]
  },
  {
   "cell_type": "code",
   "execution_count": 5,
   "id": "061850bb",
   "metadata": {
    "id": "061850bb"
   },
   "outputs": [],
   "source": [
    "df_expression = pd.read_csv(\"BRCA.exp.547.med.txt\", sep=\"\\t\").transpose()"
   ]
  },
  {
   "cell_type": "code",
   "execution_count": 6,
   "id": "10d40490",
   "metadata": {
    "id": "10d40490"
   },
   "outputs": [],
   "source": [
    "genes = df_expression.loc[\"NAME\"]\n",
    "df_expression = df_expression.drop(\"NAME\")\n",
    "df_expression.columns = genes"
   ]
  },
  {
   "cell_type": "code",
   "execution_count": 7,
   "id": "7d97444e",
   "metadata": {
    "colab": {
     "base_uri": "https://localhost:8080/",
     "height": 820
    },
    "id": "7d97444e",
    "outputId": "ffb6c46c-6b2b-4ded-9e17-b88c7f6b6f51"
   },
   "outputs": [
    {
     "data": {
      "text/html": [
       "<div>\n",
       "<style scoped>\n",
       "    .dataframe tbody tr th:only-of-type {\n",
       "        vertical-align: middle;\n",
       "    }\n",
       "\n",
       "    .dataframe tbody tr th {\n",
       "        vertical-align: top;\n",
       "    }\n",
       "\n",
       "    .dataframe thead th {\n",
       "        text-align: right;\n",
       "    }\n",
       "</style>\n",
       "<table border=\"1\" class=\"dataframe\">\n",
       "  <thead>\n",
       "    <tr style=\"text-align: right;\">\n",
       "      <th>NAME</th>\n",
       "      <th>ELMO2</th>\n",
       "      <th>CREB3L1</th>\n",
       "      <th>RPS11</th>\n",
       "      <th>PNMA1</th>\n",
       "      <th>MMP2</th>\n",
       "      <th>C10orf90</th>\n",
       "      <th>ZHX3</th>\n",
       "      <th>ERCC5</th>\n",
       "      <th>GPR98</th>\n",
       "      <th>RXFP3</th>\n",
       "      <th>...</th>\n",
       "      <th>SLC2A11</th>\n",
       "      <th>GRIP2</th>\n",
       "      <th>GPLD1</th>\n",
       "      <th>RAB8A</th>\n",
       "      <th>RXFP2</th>\n",
       "      <th>PIK3IP1</th>\n",
       "      <th>SLC39A6</th>\n",
       "      <th>SNRPD2</th>\n",
       "      <th>AQP7</th>\n",
       "      <th>CTSC</th>\n",
       "    </tr>\n",
       "  </thead>\n",
       "  <tbody>\n",
       "    <tr>\n",
       "      <th>TCGA-A1-A0SD-01A-11R-A115-07</th>\n",
       "      <td>0.220167</td>\n",
       "      <td>0.54375</td>\n",
       "      <td>0.354875</td>\n",
       "      <td>0.4335</td>\n",
       "      <td>1.065167</td>\n",
       "      <td>-0.11225</td>\n",
       "      <td>0.262333</td>\n",
       "      <td>-0.16625</td>\n",
       "      <td>0.322375</td>\n",
       "      <td>-0.496</td>\n",
       "      <td>...</td>\n",
       "      <td>0.308833</td>\n",
       "      <td>-0.00275</td>\n",
       "      <td>0.048</td>\n",
       "      <td>-0.2987</td>\n",
       "      <td>0.0625</td>\n",
       "      <td>-0.1575</td>\n",
       "      <td>0.1907</td>\n",
       "      <td>0.0472</td>\n",
       "      <td>-0.1925</td>\n",
       "      <td>-0.7193</td>\n",
       "    </tr>\n",
       "    <tr>\n",
       "      <th>TCGA-A1-A0SE-01A-11R-A084-07</th>\n",
       "      <td>-0.1055</td>\n",
       "      <td>0.0</td>\n",
       "      <td>0.305875</td>\n",
       "      <td>0.03925</td>\n",
       "      <td>0.517</td>\n",
       "      <td>1.31575</td>\n",
       "      <td>0.175333</td>\n",
       "      <td>-0.2975</td>\n",
       "      <td>0.067</td>\n",
       "      <td>0.0085</td>\n",
       "      <td>...</td>\n",
       "      <td>0.214333</td>\n",
       "      <td>0.05975</td>\n",
       "      <td>0.275167</td>\n",
       "      <td>0.2673</td>\n",
       "      <td>-0.0675</td>\n",
       "      <td>0.686</td>\n",
       "      <td>1.5998</td>\n",
       "      <td>-0.0969</td>\n",
       "      <td>-0.546</td>\n",
       "      <td>-0.8805</td>\n",
       "    </tr>\n",
       "    <tr>\n",
       "      <th>TCGA-A1-A0SH-01A-11R-A084-07</th>\n",
       "      <td>0.174583</td>\n",
       "      <td>1.3685</td>\n",
       "      <td>0.007</td>\n",
       "      <td>0.2325</td>\n",
       "      <td>1.844667</td>\n",
       "      <td>0.17925</td>\n",
       "      <td>0.6395</td>\n",
       "      <td>-0.05175</td>\n",
       "      <td>-0.47675</td>\n",
       "      <td>-0.138</td>\n",
       "      <td>...</td>\n",
       "      <td>0.027167</td>\n",
       "      <td>-0.02175</td>\n",
       "      <td>-0.2815</td>\n",
       "      <td>0.5805</td>\n",
       "      <td>0.278</td>\n",
       "      <td>0.24475</td>\n",
       "      <td>0.0275</td>\n",
       "      <td>-0.2257</td>\n",
       "      <td>-0.613</td>\n",
       "      <td>-0.491</td>\n",
       "    </tr>\n",
       "    <tr>\n",
       "      <th>TCGA-A1-A0SJ-01A-11R-A084-07</th>\n",
       "      <td>0.590083</td>\n",
       "      <td>-0.453</td>\n",
       "      <td>-0.295125</td>\n",
       "      <td>0.66525</td>\n",
       "      <td>-0.530167</td>\n",
       "      <td>0.12225</td>\n",
       "      <td>0.47</td>\n",
       "      <td>-0.02375</td>\n",
       "      <td>-0.421375</td>\n",
       "      <td>0.2545</td>\n",
       "      <td>...</td>\n",
       "      <td>0.483833</td>\n",
       "      <td>0.2475</td>\n",
       "      <td>0.615667</td>\n",
       "      <td>-0.0739</td>\n",
       "      <td>-0.448</td>\n",
       "      <td>0.7325</td>\n",
       "      <td>2.6229</td>\n",
       "      <td>0.3027</td>\n",
       "      <td>2.0545</td>\n",
       "      <td>-0.4711</td>\n",
       "    </tr>\n",
       "    <tr>\n",
       "      <th>TCGA-A1-A0SK-01A-12R-A084-07</th>\n",
       "      <td>1.125417</td>\n",
       "      <td>-1.528</td>\n",
       "      <td>0.08275</td>\n",
       "      <td>0.85075</td>\n",
       "      <td>-1.674</td>\n",
       "      <td>-0.849</td>\n",
       "      <td>-1.1125</td>\n",
       "      <td>0.732</td>\n",
       "      <td>0.23375</td>\n",
       "      <td>-0.494</td>\n",
       "      <td>...</td>\n",
       "      <td>-0.640833</td>\n",
       "      <td>0.13075</td>\n",
       "      <td>0.081</td>\n",
       "      <td>0.627</td>\n",
       "      <td>-0.239</td>\n",
       "      <td>-0.26475</td>\n",
       "      <td>-0.9026</td>\n",
       "      <td>-0.0246</td>\n",
       "      <td>-0.564</td>\n",
       "      <td>-0.359</td>\n",
       "    </tr>\n",
       "  </tbody>\n",
       "</table>\n",
       "<p>5 rows × 17814 columns</p>\n",
       "</div>"
      ],
      "text/plain": [
       "NAME                             ELMO2  CREB3L1     RPS11    PNMA1      MMP2  \\\n",
       "TCGA-A1-A0SD-01A-11R-A115-07  0.220167  0.54375  0.354875   0.4335  1.065167   \n",
       "TCGA-A1-A0SE-01A-11R-A084-07   -0.1055      0.0  0.305875  0.03925     0.517   \n",
       "TCGA-A1-A0SH-01A-11R-A084-07  0.174583   1.3685     0.007   0.2325  1.844667   \n",
       "TCGA-A1-A0SJ-01A-11R-A084-07  0.590083   -0.453 -0.295125  0.66525 -0.530167   \n",
       "TCGA-A1-A0SK-01A-12R-A084-07  1.125417   -1.528   0.08275  0.85075    -1.674   \n",
       "\n",
       "NAME                         C10orf90      ZHX3    ERCC5     GPR98   RXFP3  \\\n",
       "TCGA-A1-A0SD-01A-11R-A115-07 -0.11225  0.262333 -0.16625  0.322375  -0.496   \n",
       "TCGA-A1-A0SE-01A-11R-A084-07  1.31575  0.175333  -0.2975     0.067  0.0085   \n",
       "TCGA-A1-A0SH-01A-11R-A084-07  0.17925    0.6395 -0.05175  -0.47675  -0.138   \n",
       "TCGA-A1-A0SJ-01A-11R-A084-07  0.12225      0.47 -0.02375 -0.421375  0.2545   \n",
       "TCGA-A1-A0SK-01A-12R-A084-07   -0.849   -1.1125    0.732   0.23375  -0.494   \n",
       "\n",
       "NAME                          ...   SLC2A11    GRIP2     GPLD1   RAB8A  \\\n",
       "TCGA-A1-A0SD-01A-11R-A115-07  ...  0.308833 -0.00275     0.048 -0.2987   \n",
       "TCGA-A1-A0SE-01A-11R-A084-07  ...  0.214333  0.05975  0.275167  0.2673   \n",
       "TCGA-A1-A0SH-01A-11R-A084-07  ...  0.027167 -0.02175   -0.2815  0.5805   \n",
       "TCGA-A1-A0SJ-01A-11R-A084-07  ...  0.483833   0.2475  0.615667 -0.0739   \n",
       "TCGA-A1-A0SK-01A-12R-A084-07  ... -0.640833  0.13075     0.081   0.627   \n",
       "\n",
       "NAME                           RXFP2  PIK3IP1 SLC39A6  SNRPD2    AQP7    CTSC  \n",
       "TCGA-A1-A0SD-01A-11R-A115-07  0.0625  -0.1575  0.1907  0.0472 -0.1925 -0.7193  \n",
       "TCGA-A1-A0SE-01A-11R-A084-07 -0.0675    0.686  1.5998 -0.0969  -0.546 -0.8805  \n",
       "TCGA-A1-A0SH-01A-11R-A084-07   0.278  0.24475  0.0275 -0.2257  -0.613  -0.491  \n",
       "TCGA-A1-A0SJ-01A-11R-A084-07  -0.448   0.7325  2.6229  0.3027  2.0545 -0.4711  \n",
       "TCGA-A1-A0SK-01A-12R-A084-07  -0.239 -0.26475 -0.9026 -0.0246  -0.564  -0.359  \n",
       "\n",
       "[5 rows x 17814 columns]"
      ]
     },
     "execution_count": 7,
     "metadata": {},
     "output_type": "execute_result"
    }
   ],
   "source": [
    "df_expression.head()"
   ]
  },
  {
   "cell_type": "markdown",
   "id": "e77e27af",
   "metadata": {
    "id": "e77e27af"
   },
   "source": [
    "### Merging into a Single Dataset"
   ]
  },
  {
   "cell_type": "code",
   "execution_count": 8,
   "id": "6d838fe3",
   "metadata": {
    "colab": {
     "base_uri": "https://localhost:8080/",
     "height": 820
    },
    "id": "6d838fe3",
    "outputId": "2f887dfe-b053-4193-c0c6-1d4905efd6f7"
   },
   "outputs": [
    {
     "data": {
      "text/html": [
       "<div>\n",
       "<style scoped>\n",
       "    .dataframe tbody tr th:only-of-type {\n",
       "        vertical-align: middle;\n",
       "    }\n",
       "\n",
       "    .dataframe tbody tr th {\n",
       "        vertical-align: top;\n",
       "    }\n",
       "\n",
       "    .dataframe thead th {\n",
       "        text-align: right;\n",
       "    }\n",
       "</style>\n",
       "<table border=\"1\" class=\"dataframe\">\n",
       "  <thead>\n",
       "    <tr style=\"text-align: right;\">\n",
       "      <th></th>\n",
       "      <th>Type</th>\n",
       "      <th>Siglust</th>\n",
       "      <th>Subtype</th>\n",
       "      <th>ELMO2</th>\n",
       "      <th>CREB3L1</th>\n",
       "      <th>RPS11</th>\n",
       "      <th>PNMA1</th>\n",
       "      <th>MMP2</th>\n",
       "      <th>C10orf90</th>\n",
       "      <th>ZHX3</th>\n",
       "      <th>...</th>\n",
       "      <th>CSF2</th>\n",
       "      <th>SLC2A11</th>\n",
       "      <th>GRIP2</th>\n",
       "      <th>GPLD1</th>\n",
       "      <th>RAB8A</th>\n",
       "      <th>PIK3IP1</th>\n",
       "      <th>SLC39A6</th>\n",
       "      <th>SNRPD2</th>\n",
       "      <th>AQP7</th>\n",
       "      <th>CTSC</th>\n",
       "    </tr>\n",
       "  </thead>\n",
       "  <tbody>\n",
       "    <tr>\n",
       "      <th>TCGA-A1-A0SD-01A-11R-A115-07</th>\n",
       "      <td>tumor</td>\n",
       "      <td>-9</td>\n",
       "      <td>LumA</td>\n",
       "      <td>0.220167</td>\n",
       "      <td>0.54375</td>\n",
       "      <td>0.354875</td>\n",
       "      <td>0.4335</td>\n",
       "      <td>1.065167</td>\n",
       "      <td>-0.11225</td>\n",
       "      <td>0.262333</td>\n",
       "      <td>...</td>\n",
       "      <td>-0.43375</td>\n",
       "      <td>0.308833</td>\n",
       "      <td>-0.00275</td>\n",
       "      <td>0.048</td>\n",
       "      <td>-0.2987</td>\n",
       "      <td>-0.1575</td>\n",
       "      <td>0.1907</td>\n",
       "      <td>0.0472</td>\n",
       "      <td>-0.1925</td>\n",
       "      <td>-0.7193</td>\n",
       "    </tr>\n",
       "    <tr>\n",
       "      <th>TCGA-A1-A0SE-01A-11R-A084-07</th>\n",
       "      <td>tumor</td>\n",
       "      <td>-5</td>\n",
       "      <td>LumA</td>\n",
       "      <td>-0.1055</td>\n",
       "      <td>0.0</td>\n",
       "      <td>0.305875</td>\n",
       "      <td>0.03925</td>\n",
       "      <td>0.517</td>\n",
       "      <td>1.31575</td>\n",
       "      <td>0.175333</td>\n",
       "      <td>...</td>\n",
       "      <td>-0.1675</td>\n",
       "      <td>0.214333</td>\n",
       "      <td>0.05975</td>\n",
       "      <td>0.275167</td>\n",
       "      <td>0.2673</td>\n",
       "      <td>0.686</td>\n",
       "      <td>1.5998</td>\n",
       "      <td>-0.0969</td>\n",
       "      <td>-0.546</td>\n",
       "      <td>-0.8805</td>\n",
       "    </tr>\n",
       "    <tr>\n",
       "      <th>TCGA-A1-A0SH-01A-11R-A084-07</th>\n",
       "      <td>tumor</td>\n",
       "      <td>-5</td>\n",
       "      <td>LumA</td>\n",
       "      <td>0.174583</td>\n",
       "      <td>1.3685</td>\n",
       "      <td>0.007</td>\n",
       "      <td>0.2325</td>\n",
       "      <td>1.844667</td>\n",
       "      <td>0.17925</td>\n",
       "      <td>0.6395</td>\n",
       "      <td>...</td>\n",
       "      <td>-0.258</td>\n",
       "      <td>0.027167</td>\n",
       "      <td>-0.02175</td>\n",
       "      <td>-0.2815</td>\n",
       "      <td>0.5805</td>\n",
       "      <td>0.24475</td>\n",
       "      <td>0.0275</td>\n",
       "      <td>-0.2257</td>\n",
       "      <td>-0.613</td>\n",
       "      <td>-0.491</td>\n",
       "    </tr>\n",
       "    <tr>\n",
       "      <th>TCGA-A1-A0SJ-01A-11R-A084-07</th>\n",
       "      <td>tumor</td>\n",
       "      <td>-3</td>\n",
       "      <td>LumA</td>\n",
       "      <td>0.590083</td>\n",
       "      <td>-0.453</td>\n",
       "      <td>-0.295125</td>\n",
       "      <td>0.66525</td>\n",
       "      <td>-0.530167</td>\n",
       "      <td>0.12225</td>\n",
       "      <td>0.47</td>\n",
       "      <td>...</td>\n",
       "      <td>-0.415</td>\n",
       "      <td>0.483833</td>\n",
       "      <td>0.2475</td>\n",
       "      <td>0.615667</td>\n",
       "      <td>-0.0739</td>\n",
       "      <td>0.7325</td>\n",
       "      <td>2.6229</td>\n",
       "      <td>0.3027</td>\n",
       "      <td>2.0545</td>\n",
       "      <td>-0.4711</td>\n",
       "    </tr>\n",
       "    <tr>\n",
       "      <th>TCGA-A1-A0SK-01A-12R-A084-07</th>\n",
       "      <td>tumor</td>\n",
       "      <td>-13</td>\n",
       "      <td>Basal</td>\n",
       "      <td>1.125417</td>\n",
       "      <td>-1.528</td>\n",
       "      <td>0.08275</td>\n",
       "      <td>0.85075</td>\n",
       "      <td>-1.674</td>\n",
       "      <td>-0.849</td>\n",
       "      <td>-1.1125</td>\n",
       "      <td>...</td>\n",
       "      <td>-1.12875</td>\n",
       "      <td>-0.640833</td>\n",
       "      <td>0.13075</td>\n",
       "      <td>0.081</td>\n",
       "      <td>0.627</td>\n",
       "      <td>-0.26475</td>\n",
       "      <td>-0.9026</td>\n",
       "      <td>-0.0246</td>\n",
       "      <td>-0.564</td>\n",
       "      <td>-0.359</td>\n",
       "    </tr>\n",
       "  </tbody>\n",
       "</table>\n",
       "<p>5 rows × 17319 columns</p>\n",
       "</div>"
      ],
      "text/plain": [
       "                               Type  Siglust Subtype     ELMO2  CREB3L1  \\\n",
       "TCGA-A1-A0SD-01A-11R-A115-07  tumor       -9    LumA  0.220167  0.54375   \n",
       "TCGA-A1-A0SE-01A-11R-A084-07  tumor       -5    LumA   -0.1055      0.0   \n",
       "TCGA-A1-A0SH-01A-11R-A084-07  tumor       -5    LumA  0.174583   1.3685   \n",
       "TCGA-A1-A0SJ-01A-11R-A084-07  tumor       -3    LumA  0.590083   -0.453   \n",
       "TCGA-A1-A0SK-01A-12R-A084-07  tumor      -13   Basal  1.125417   -1.528   \n",
       "\n",
       "                                 RPS11    PNMA1      MMP2 C10orf90      ZHX3  \\\n",
       "TCGA-A1-A0SD-01A-11R-A115-07  0.354875   0.4335  1.065167 -0.11225  0.262333   \n",
       "TCGA-A1-A0SE-01A-11R-A084-07  0.305875  0.03925     0.517  1.31575  0.175333   \n",
       "TCGA-A1-A0SH-01A-11R-A084-07     0.007   0.2325  1.844667  0.17925    0.6395   \n",
       "TCGA-A1-A0SJ-01A-11R-A084-07 -0.295125  0.66525 -0.530167  0.12225      0.47   \n",
       "TCGA-A1-A0SK-01A-12R-A084-07   0.08275  0.85075    -1.674   -0.849   -1.1125   \n",
       "\n",
       "                              ...     CSF2   SLC2A11    GRIP2     GPLD1  \\\n",
       "TCGA-A1-A0SD-01A-11R-A115-07  ... -0.43375  0.308833 -0.00275     0.048   \n",
       "TCGA-A1-A0SE-01A-11R-A084-07  ...  -0.1675  0.214333  0.05975  0.275167   \n",
       "TCGA-A1-A0SH-01A-11R-A084-07  ...   -0.258  0.027167 -0.02175   -0.2815   \n",
       "TCGA-A1-A0SJ-01A-11R-A084-07  ...   -0.415  0.483833   0.2475  0.615667   \n",
       "TCGA-A1-A0SK-01A-12R-A084-07  ... -1.12875 -0.640833  0.13075     0.081   \n",
       "\n",
       "                               RAB8A  PIK3IP1 SLC39A6  SNRPD2    AQP7    CTSC  \n",
       "TCGA-A1-A0SD-01A-11R-A115-07 -0.2987  -0.1575  0.1907  0.0472 -0.1925 -0.7193  \n",
       "TCGA-A1-A0SE-01A-11R-A084-07  0.2673    0.686  1.5998 -0.0969  -0.546 -0.8805  \n",
       "TCGA-A1-A0SH-01A-11R-A084-07  0.5805  0.24475  0.0275 -0.2257  -0.613  -0.491  \n",
       "TCGA-A1-A0SJ-01A-11R-A084-07 -0.0739   0.7325  2.6229  0.3027  2.0545 -0.4711  \n",
       "TCGA-A1-A0SK-01A-12R-A084-07   0.627 -0.26475 -0.9026 -0.0246  -0.564  -0.359  \n",
       "\n",
       "[5 rows x 17319 columns]"
      ]
     },
     "execution_count": 8,
     "metadata": {},
     "output_type": "execute_result"
    }
   ],
   "source": [
    "# dropping genes instead of individuals due to small sample size (dropping individuals almost cut sample in half)\n",
    "df_combined = df_subtype.merge(df_expression, how=\"outer\", left_index=True, right_index=True).dropna(axis=1)\n",
    "df_combined.head()"
   ]
  },
  {
   "cell_type": "markdown",
   "id": "625d53fb",
   "metadata": {
    "id": "625d53fb"
   },
   "source": [
    "### Creating Random Forest Model"
   ]
  },
  {
   "cell_type": "code",
   "execution_count": 9,
   "id": "5ffa4f04",
   "metadata": {
    "id": "5ffa4f04"
   },
   "outputs": [],
   "source": [
    "X = df_combined.drop([\"Type\", \"Siglust\", \"Subtype\"], axis=1) \n",
    "y = df_combined[[\"Subtype\"]]"
   ]
  },
  {
   "cell_type": "code",
   "execution_count": 10,
   "id": "21514bf6",
   "metadata": {
    "id": "21514bf6"
   },
   "outputs": [],
   "source": [
    "X_train, X_test, y_train, y_test = train_test_split(X, y, test_size=0.30, random_state=5) # 70% training and 30% test"
   ]
  },
  {
   "cell_type": "code",
   "execution_count": 11,
   "id": "3c4bb4d0",
   "metadata": {
    "colab": {
     "base_uri": "https://localhost:8080/"
    },
    "id": "3c4bb4d0",
    "outputId": "083be49e-3866-40da-a04b-857feee9c49a"
   },
   "outputs": [
    {
     "data": {
      "text/plain": [
       "RandomForestClassifier()"
      ]
     },
     "execution_count": 11,
     "metadata": {},
     "output_type": "execute_result"
    }
   ],
   "source": [
    "model = RandomForestClassifier()\n",
    "model.fit(X_train, y_train.values.ravel())"
   ]
  },
  {
   "cell_type": "markdown",
   "id": "058f0d14",
   "metadata": {
    "id": "058f0d14"
   },
   "source": [
    "### Evaluating Random Forest Model"
   ]
  },
  {
   "cell_type": "code",
   "execution_count": 12,
   "id": "c6a0836c",
   "metadata": {
    "id": "c6a0836c"
   },
   "outputs": [],
   "source": [
    "y_pred = model.predict(X_test)"
   ]
  },
  {
   "cell_type": "code",
   "execution_count": 13,
   "id": "8bdbc8be",
   "metadata": {
    "colab": {
     "base_uri": "https://localhost:8080/",
     "height": 206
    },
    "id": "8bdbc8be",
    "outputId": "5bb82f9d-cfeb-4ffb-d852-2aabc289d94f"
   },
   "outputs": [
    {
     "data": {
      "text/html": [
       "<div>\n",
       "<style scoped>\n",
       "    .dataframe tbody tr th:only-of-type {\n",
       "        vertical-align: middle;\n",
       "    }\n",
       "\n",
       "    .dataframe tbody tr th {\n",
       "        vertical-align: top;\n",
       "    }\n",
       "\n",
       "    .dataframe thead th {\n",
       "        text-align: right;\n",
       "    }\n",
       "</style>\n",
       "<table border=\"1\" class=\"dataframe\">\n",
       "  <thead>\n",
       "    <tr style=\"text-align: right;\">\n",
       "      <th></th>\n",
       "      <th>Actual</th>\n",
       "      <th>Predicted</th>\n",
       "    </tr>\n",
       "  </thead>\n",
       "  <tbody>\n",
       "    <tr>\n",
       "      <th>0</th>\n",
       "      <td>LumA</td>\n",
       "      <td>LumA</td>\n",
       "    </tr>\n",
       "    <tr>\n",
       "      <th>1</th>\n",
       "      <td>Basal</td>\n",
       "      <td>Basal</td>\n",
       "    </tr>\n",
       "    <tr>\n",
       "      <th>2</th>\n",
       "      <td>LumA</td>\n",
       "      <td>LumA</td>\n",
       "    </tr>\n",
       "    <tr>\n",
       "      <th>3</th>\n",
       "      <td>LumA</td>\n",
       "      <td>LumA</td>\n",
       "    </tr>\n",
       "    <tr>\n",
       "      <th>4</th>\n",
       "      <td>LumA</td>\n",
       "      <td>LumA</td>\n",
       "    </tr>\n",
       "  </tbody>\n",
       "</table>\n",
       "</div>"
      ],
      "text/plain": [
       "  Actual Predicted\n",
       "0   LumA      LumA\n",
       "1  Basal     Basal\n",
       "2   LumA      LumA\n",
       "3   LumA      LumA\n",
       "4   LumA      LumA"
      ]
     },
     "execution_count": 13,
     "metadata": {},
     "output_type": "execute_result"
    }
   ],
   "source": [
    "df_comparison = pd.DataFrame(zip(list(y_test['Subtype']), list(y_pred)), columns=['Actual','Predicted'])\n",
    "df_comparison.head()"
   ]
  },
  {
   "cell_type": "code",
   "execution_count": 14,
   "id": "d8b165db",
   "metadata": {
    "colab": {
     "base_uri": "https://localhost:8080/",
     "height": 238
    },
    "id": "d8b165db",
    "outputId": "0cd02843-faf7-443c-b7fc-bbfa0da27b55"
   },
   "outputs": [
    {
     "data": {
      "text/html": [
       "<div>\n",
       "<style scoped>\n",
       "    .dataframe tbody tr th:only-of-type {\n",
       "        vertical-align: middle;\n",
       "    }\n",
       "\n",
       "    .dataframe tbody tr th {\n",
       "        vertical-align: top;\n",
       "    }\n",
       "\n",
       "    .dataframe thead th {\n",
       "        text-align: right;\n",
       "    }\n",
       "</style>\n",
       "<table border=\"1\" class=\"dataframe\">\n",
       "  <thead>\n",
       "    <tr style=\"text-align: right;\">\n",
       "      <th>Predicted</th>\n",
       "      <th>Basal</th>\n",
       "      <th>Her2</th>\n",
       "      <th>LumA</th>\n",
       "      <th>LumB</th>\n",
       "      <th>Normal</th>\n",
       "    </tr>\n",
       "    <tr>\n",
       "      <th>Actual</th>\n",
       "      <th></th>\n",
       "      <th></th>\n",
       "      <th></th>\n",
       "      <th></th>\n",
       "      <th></th>\n",
       "    </tr>\n",
       "  </thead>\n",
       "  <tbody>\n",
       "    <tr>\n",
       "      <th>Basal</th>\n",
       "      <td>22</td>\n",
       "      <td>1</td>\n",
       "      <td>0</td>\n",
       "      <td>0</td>\n",
       "      <td>0</td>\n",
       "    </tr>\n",
       "    <tr>\n",
       "      <th>Her2</th>\n",
       "      <td>0</td>\n",
       "      <td>9</td>\n",
       "      <td>1</td>\n",
       "      <td>7</td>\n",
       "      <td>0</td>\n",
       "    </tr>\n",
       "    <tr>\n",
       "      <th>LumA</th>\n",
       "      <td>0</td>\n",
       "      <td>0</td>\n",
       "      <td>77</td>\n",
       "      <td>1</td>\n",
       "      <td>0</td>\n",
       "    </tr>\n",
       "    <tr>\n",
       "      <th>LumB</th>\n",
       "      <td>1</td>\n",
       "      <td>0</td>\n",
       "      <td>9</td>\n",
       "      <td>27</td>\n",
       "      <td>0</td>\n",
       "    </tr>\n",
       "    <tr>\n",
       "      <th>Normal</th>\n",
       "      <td>0</td>\n",
       "      <td>0</td>\n",
       "      <td>0</td>\n",
       "      <td>1</td>\n",
       "      <td>9</td>\n",
       "    </tr>\n",
       "  </tbody>\n",
       "</table>\n",
       "</div>"
      ],
      "text/plain": [
       "Predicted  Basal  Her2  LumA  LumB  Normal\n",
       "Actual                                    \n",
       "Basal         22     1     0     0       0\n",
       "Her2           0     9     1     7       0\n",
       "LumA           0     0    77     1       0\n",
       "LumB           1     0     9    27       0\n",
       "Normal         0     0     0     1       9"
      ]
     },
     "execution_count": 14,
     "metadata": {},
     "output_type": "execute_result"
    }
   ],
   "source": [
    "confusion_matrix = pd.crosstab(df_comparison['Actual'], df_comparison['Predicted'], rownames=['Actual'], colnames=['Predicted'])\n",
    "confusion_matrix"
   ]
  },
  {
   "cell_type": "code",
   "execution_count": 15,
   "id": "ebbb36d3",
   "metadata": {
    "id": "ebbb36d3"
   },
   "outputs": [],
   "source": [
    "precision_scores = precision_score(list(y_test['Subtype']), list(y_pred), average=None)\n",
    "precision_scores = [round(i, 2) for i in precision_scores]\n",
    "recall_scores = recall_score(list(y_test['Subtype']), list(y_pred), average=None)\n",
    "recall_scores = [round(i, 2) for i in recall_scores]"
   ]
  },
  {
   "cell_type": "code",
   "execution_count": 16,
   "id": "238cde3b",
   "metadata": {
    "colab": {
     "base_uri": "https://localhost:8080/",
     "height": 238
    },
    "id": "238cde3b",
    "outputId": "b6739923-d0f7-48bb-881c-9b5fa7f9a28a"
   },
   "outputs": [
    {
     "data": {
      "text/html": [
       "<div>\n",
       "<style scoped>\n",
       "    .dataframe tbody tr th:only-of-type {\n",
       "        vertical-align: middle;\n",
       "    }\n",
       "\n",
       "    .dataframe tbody tr th {\n",
       "        vertical-align: top;\n",
       "    }\n",
       "\n",
       "    .dataframe thead th {\n",
       "        text-align: right;\n",
       "    }\n",
       "</style>\n",
       "<table border=\"1\" class=\"dataframe\">\n",
       "  <thead>\n",
       "    <tr style=\"text-align: right;\">\n",
       "      <th></th>\n",
       "      <th>Precision</th>\n",
       "      <th>Recall</th>\n",
       "    </tr>\n",
       "    <tr>\n",
       "      <th>Class</th>\n",
       "      <th></th>\n",
       "      <th></th>\n",
       "    </tr>\n",
       "  </thead>\n",
       "  <tbody>\n",
       "    <tr>\n",
       "      <th>Basal</th>\n",
       "      <td>0.96</td>\n",
       "      <td>0.96</td>\n",
       "    </tr>\n",
       "    <tr>\n",
       "      <th>Her2</th>\n",
       "      <td>0.90</td>\n",
       "      <td>0.53</td>\n",
       "    </tr>\n",
       "    <tr>\n",
       "      <th>LumA</th>\n",
       "      <td>0.89</td>\n",
       "      <td>0.99</td>\n",
       "    </tr>\n",
       "    <tr>\n",
       "      <th>LumB</th>\n",
       "      <td>0.75</td>\n",
       "      <td>0.73</td>\n",
       "    </tr>\n",
       "    <tr>\n",
       "      <th>Normal</th>\n",
       "      <td>1.00</td>\n",
       "      <td>0.90</td>\n",
       "    </tr>\n",
       "  </tbody>\n",
       "</table>\n",
       "</div>"
      ],
      "text/plain": [
       "        Precision  Recall\n",
       "Class                    \n",
       "Basal        0.96    0.96\n",
       "Her2         0.90    0.53\n",
       "LumA         0.89    0.99\n",
       "LumB         0.75    0.73\n",
       "Normal       1.00    0.90"
      ]
     },
     "execution_count": 16,
     "metadata": {},
     "output_type": "execute_result"
    }
   ],
   "source": [
    "df_scores = pd.DataFrame(zip(precision_scores, recall_scores, confusion_matrix.columns), columns=['Precision','Recall', 'Class'])\n",
    "df_scores = df_scores.set_index('Class')\n",
    "df_scores"
   ]
  },
  {
   "cell_type": "code",
   "execution_count": 17,
   "id": "c7721aca",
   "metadata": {
    "colab": {
     "base_uri": "https://localhost:8080/",
     "height": 575
    },
    "id": "c7721aca",
    "outputId": "e89c8fd2-af6c-4eb3-8329-17a874719731"
   },
   "outputs": [
    {
     "data": {
      "image/png": "[encoded data removed]",
      "text/plain": [
       "<Figure size 1080x720 with 1 Axes>"
      ]
     },
     "metadata": {
      "needs_background": "light"
     },
     "output_type": "display_data"
    }
   ],
   "source": [
    "fig = plt.figure(figsize=(15, 10))\n",
    "plot_tree(model.estimators_[0], \n",
    "          feature_names=X.columns,\n",
    "          class_names=df_combined['Subtype'].unique(), \n",
    "          filled=True, rounded=True)\n",
    "\n",
    "plt.show()"
   ]
  },
  {
   "cell_type": "markdown",
   "id": "4caa46ee",
   "metadata": {
    "id": "4caa46ee"
   },
   "source": [
    "### Genes Importance given by Random Regressor Classifier"
   ]
  },
  {
   "cell_type": "code",
   "execution_count": 18,
   "id": "d740c8d9",
   "metadata": {
    "colab": {
     "base_uri": "https://localhost:8080/"
    },
    "id": "d740c8d9",
    "outputId": "c07aab85-0d5c-485d-a817-600bdc5ab7b6"
   },
   "outputs": [
    {
     "data": {
      "text/plain": [
       "array([0.        , 0.        , 0.        , ..., 0.        , 0.00019946,\n",
       "       0.00010627])"
      ]
     },
     "execution_count": 18,
     "metadata": {},
     "output_type": "execute_result"
    }
   ],
   "source": [
    "model.feature_importances_"
   ]
  },
  {
   "cell_type": "code",
   "execution_count": 19,
   "id": "91b2f576",
   "metadata": {
    "colab": {
     "base_uri": "https://localhost:8080/"
    },
    "id": "91b2f576",
    "outputId": "ef52ace0-3b90-41bd-8ea7-1dfb0ad45f84"
   },
   "outputs": [
    {
     "data": {
      "text/plain": [
       "Index(['ELMO2', 'CREB3L1', 'RPS11', 'PNMA1', 'MMP2', 'C10orf90', 'ZHX3',\n",
       "       'ERCC5', 'GPR98', 'RXFP3',\n",
       "       ...\n",
       "       'CSF2', 'SLC2A11', 'GRIP2', 'GPLD1', 'RAB8A', 'PIK3IP1', 'SLC39A6',\n",
       "       'SNRPD2', 'AQP7', 'CTSC'],\n",
       "      dtype='object', length=17316)"
      ]
     },
     "execution_count": 19,
     "metadata": {},
     "output_type": "execute_result"
    }
   ],
   "source": [
    "X.columns"
   ]
  },
  {
   "cell_type": "code",
   "execution_count": 20,
   "id": "4f646d8a",
   "metadata": {
    "colab": {
     "base_uri": "https://localhost:8080/",
     "height": 0
    },
    "id": "4f646d8a",
    "outputId": "bc87eaf3-eb93-495c-b7ac-bfa04517c388"
   },
   "outputs": [
    {
     "data": {
      "text/html": [
       "<div>\n",
       "<style scoped>\n",
       "    .dataframe tbody tr th:only-of-type {\n",
       "        vertical-align: middle;\n",
       "    }\n",
       "\n",
       "    .dataframe tbody tr th {\n",
       "        vertical-align: top;\n",
       "    }\n",
       "\n",
       "    .dataframe thead th {\n",
       "        text-align: right;\n",
       "    }\n",
       "</style>\n",
       "<table border=\"1\" class=\"dataframe\">\n",
       "  <thead>\n",
       "    <tr style=\"text-align: right;\">\n",
       "      <th></th>\n",
       "      <th>Importance</th>\n",
       "    </tr>\n",
       "    <tr>\n",
       "      <th>Gene</th>\n",
       "      <th></th>\n",
       "    </tr>\n",
       "  </thead>\n",
       "  <tbody>\n",
       "    <tr>\n",
       "      <th>PRR15</th>\n",
       "      <td>0.008377</td>\n",
       "    </tr>\n",
       "    <tr>\n",
       "      <th>TBC1D9</th>\n",
       "      <td>0.007615</td>\n",
       "    </tr>\n",
       "    <tr>\n",
       "      <th>MLPH</th>\n",
       "      <td>0.007353</td>\n",
       "    </tr>\n",
       "    <tr>\n",
       "      <th>FOXM1</th>\n",
       "      <td>0.006646</td>\n",
       "    </tr>\n",
       "    <tr>\n",
       "      <th>MCM10</th>\n",
       "      <td>0.006414</td>\n",
       "    </tr>\n",
       "    <tr>\n",
       "      <th>CHEK1</th>\n",
       "      <td>0.006150</td>\n",
       "    </tr>\n",
       "    <tr>\n",
       "      <th>C15orf42</th>\n",
       "      <td>0.005854</td>\n",
       "    </tr>\n",
       "    <tr>\n",
       "      <th>KIF20A</th>\n",
       "      <td>0.005728</td>\n",
       "    </tr>\n",
       "    <tr>\n",
       "      <th>ACADSB</th>\n",
       "      <td>0.005268</td>\n",
       "    </tr>\n",
       "    <tr>\n",
       "      <th>SLC7A8</th>\n",
       "      <td>0.005113</td>\n",
       "    </tr>\n",
       "    <tr>\n",
       "      <th>AR</th>\n",
       "      <td>0.004976</td>\n",
       "    </tr>\n",
       "    <tr>\n",
       "      <th>C1orf64</th>\n",
       "      <td>0.004967</td>\n",
       "    </tr>\n",
       "    <tr>\n",
       "      <th>FOXA1</th>\n",
       "      <td>0.004541</td>\n",
       "    </tr>\n",
       "    <tr>\n",
       "      <th>BLM</th>\n",
       "      <td>0.004501</td>\n",
       "    </tr>\n",
       "    <tr>\n",
       "      <th>GTSE1</th>\n",
       "      <td>0.004407</td>\n",
       "    </tr>\n",
       "    <tr>\n",
       "      <th>BCAS1</th>\n",
       "      <td>0.004379</td>\n",
       "    </tr>\n",
       "    <tr>\n",
       "      <th>MELK</th>\n",
       "      <td>0.004255</td>\n",
       "    </tr>\n",
       "    <tr>\n",
       "      <th>FZD9</th>\n",
       "      <td>0.004203</td>\n",
       "    </tr>\n",
       "    <tr>\n",
       "      <th>REEP5</th>\n",
       "      <td>0.003900</td>\n",
       "    </tr>\n",
       "    <tr>\n",
       "      <th>DSC2</th>\n",
       "      <td>0.003864</td>\n",
       "    </tr>\n",
       "  </tbody>\n",
       "</table>\n",
       "</div>"
      ],
      "text/plain": [
       "          Importance\n",
       "Gene                \n",
       "PRR15       0.008377\n",
       "TBC1D9      0.007615\n",
       "MLPH        0.007353\n",
       "FOXM1       0.006646\n",
       "MCM10       0.006414\n",
       "CHEK1       0.006150\n",
       "C15orf42    0.005854\n",
       "KIF20A      0.005728\n",
       "ACADSB      0.005268\n",
       "SLC7A8      0.005113\n",
       "AR          0.004976\n",
       "C1orf64     0.004967\n",
       "FOXA1       0.004541\n",
       "BLM         0.004501\n",
       "GTSE1       0.004407\n",
       "BCAS1       0.004379\n",
       "MELK        0.004255\n",
       "FZD9        0.004203\n",
       "REEP5       0.003900\n",
       "DSC2        0.003864"
      ]
     },
     "execution_count": 20,
     "metadata": {},
     "output_type": "execute_result"
    }
   ],
   "source": [
    "# sorted descending by importance\n",
    "df_importance = pd.DataFrame(zip(X.columns, list(model.feature_importances_)), columns=[\"Gene\", \"Importance\"]).set_index(\"Gene\").sort_values(by=\"Importance\", ascending = False)\n",
    "df_importance.head(20)"
   ]
  },
  {
   "cell_type": "code",
   "execution_count": 21,
   "id": "e32d4394",
   "metadata": {
    "colab": {
     "base_uri": "https://localhost:8080/"
    },
    "id": "e32d4394",
    "outputId": "d12a9a70-0464-44f4-f721-8579e5ba0e70"
   },
   "outputs": [
    {
     "data": {
      "text/plain": [
       "LumA      232\n",
       "LumB      129\n",
       "Basal      98\n",
       "Her2       58\n",
       "Normal     30\n",
       "Name: Subtype, dtype: int64"
      ]
     },
     "execution_count": 21,
     "metadata": {},
     "output_type": "execute_result"
    }
   ],
   "source": [
    "df_subtype[\"Subtype\"].value_counts()"
   ]
  },
  {
   "cell_type": "markdown",
   "id": "I5U2Rr3ZxXbv",
   "metadata": {
    "id": "I5U2Rr3ZxXbv"
   },
   "source": [
    "### Getting and Processing New Dataset"
   ]
  },
  {
   "cell_type": "code",
   "execution_count": 22,
   "id": "Ds-EtEg0xc9f",
   "metadata": {
    "colab": {
     "base_uri": "https://localhost:8080/"
    },
    "id": "Ds-EtEg0xc9f",
    "outputId": "d14e2478-6c59-4cdb-fc14-ec82dd5d92b3"
   },
   "outputs": [
    {
     "data": {
      "text/html": [
       "<div>\n",
       "<style scoped>\n",
       "    .dataframe tbody tr th:only-of-type {\n",
       "        vertical-align: middle;\n",
       "    }\n",
       "\n",
       "    .dataframe tbody tr th {\n",
       "        vertical-align: top;\n",
       "    }\n",
       "\n",
       "    .dataframe thead th {\n",
       "        text-align: right;\n",
       "    }\n",
       "</style>\n",
       "<table border=\"1\" class=\"dataframe\">\n",
       "  <thead>\n",
       "    <tr style=\"text-align: right;\">\n",
       "      <th></th>\n",
       "      <th>SCGB2A2</th>\n",
       "      <th>MUCL1</th>\n",
       "      <th>SCGB1D2</th>\n",
       "      <th>PIP</th>\n",
       "      <th>LOC648852</th>\n",
       "      <th>DNAJA2</th>\n",
       "      <th>TFF3</th>\n",
       "      <th>S100P</th>\n",
       "      <th>CPB1</th>\n",
       "      <th>CEACAM6</th>\n",
       "      <th>...</th>\n",
       "      <th>LOC645307</th>\n",
       "      <th>IL1RAP</th>\n",
       "      <th>LOC647149</th>\n",
       "      <th>LOC642453</th>\n",
       "      <th>LOC652100</th>\n",
       "      <th>LOC646050</th>\n",
       "      <th>LOC644912</th>\n",
       "      <th>LOC652294</th>\n",
       "      <th>target</th>\n",
       "      <th>Subtype</th>\n",
       "    </tr>\n",
       "  </thead>\n",
       "  <tbody>\n",
       "    <tr>\n",
       "      <th>0</th>\n",
       "      <td>6.365374</td>\n",
       "      <td>5.610561</td>\n",
       "      <td>5.134799</td>\n",
       "      <td>5.735802</td>\n",
       "      <td>5.855315</td>\n",
       "      <td>5.443985</td>\n",
       "      <td>8.005882</td>\n",
       "      <td>5.615179</td>\n",
       "      <td>6.682096</td>\n",
       "      <td>5.756946</td>\n",
       "      <td>...</td>\n",
       "      <td>5.420998</td>\n",
       "      <td>5.396492</td>\n",
       "      <td>5.358751</td>\n",
       "      <td>5.424770</td>\n",
       "      <td>5.411055</td>\n",
       "      <td>5.242460</td>\n",
       "      <td>5.197767</td>\n",
       "      <td>5.643537</td>\n",
       "      <td>6</td>\n",
       "      <td>Normal</td>\n",
       "    </tr>\n",
       "    <tr>\n",
       "      <th>1</th>\n",
       "      <td>14.330442</td>\n",
       "      <td>7.979139</td>\n",
       "      <td>10.244240</td>\n",
       "      <td>7.138279</td>\n",
       "      <td>9.890661</td>\n",
       "      <td>11.195867</td>\n",
       "      <td>13.511164</td>\n",
       "      <td>10.548596</td>\n",
       "      <td>5.491578</td>\n",
       "      <td>6.805606</td>\n",
       "      <td>...</td>\n",
       "      <td>5.167652</td>\n",
       "      <td>5.273045</td>\n",
       "      <td>5.287980</td>\n",
       "      <td>5.398061</td>\n",
       "      <td>5.226934</td>\n",
       "      <td>5.396744</td>\n",
       "      <td>5.352158</td>\n",
       "      <td>5.811813</td>\n",
       "      <td>4</td>\n",
       "      <td>LumB</td>\n",
       "    </tr>\n",
       "    <tr>\n",
       "      <th>2</th>\n",
       "      <td>14.388331</td>\n",
       "      <td>6.016715</td>\n",
       "      <td>12.164435</td>\n",
       "      <td>5.272691</td>\n",
       "      <td>6.468386</td>\n",
       "      <td>5.265518</td>\n",
       "      <td>13.386034</td>\n",
       "      <td>8.764722</td>\n",
       "      <td>7.331663</td>\n",
       "      <td>11.967719</td>\n",
       "      <td>...</td>\n",
       "      <td>5.327874</td>\n",
       "      <td>5.549589</td>\n",
       "      <td>5.333051</td>\n",
       "      <td>5.368544</td>\n",
       "      <td>5.296182</td>\n",
       "      <td>5.694022</td>\n",
       "      <td>5.459744</td>\n",
       "      <td>5.269015</td>\n",
       "      <td>4</td>\n",
       "      <td>LumB</td>\n",
       "    </tr>\n",
       "    <tr>\n",
       "      <th>4</th>\n",
       "      <td>12.243103</td>\n",
       "      <td>7.293489</td>\n",
       "      <td>10.919581</td>\n",
       "      <td>9.566137</td>\n",
       "      <td>8.503568</td>\n",
       "      <td>11.492583</td>\n",
       "      <td>11.531352</td>\n",
       "      <td>9.818938</td>\n",
       "      <td>9.443134</td>\n",
       "      <td>6.889670</td>\n",
       "      <td>...</td>\n",
       "      <td>5.487783</td>\n",
       "      <td>5.479967</td>\n",
       "      <td>5.332074</td>\n",
       "      <td>5.273141</td>\n",
       "      <td>5.282872</td>\n",
       "      <td>5.222482</td>\n",
       "      <td>5.186136</td>\n",
       "      <td>5.616094</td>\n",
       "      <td>3</td>\n",
       "      <td>LumA</td>\n",
       "    </tr>\n",
       "    <tr>\n",
       "      <th>5</th>\n",
       "      <td>12.805814</td>\n",
       "      <td>5.988130</td>\n",
       "      <td>10.158678</td>\n",
       "      <td>8.014498</td>\n",
       "      <td>7.969488</td>\n",
       "      <td>5.153460</td>\n",
       "      <td>14.464282</td>\n",
       "      <td>6.916060</td>\n",
       "      <td>7.431630</td>\n",
       "      <td>8.414641</td>\n",
       "      <td>...</td>\n",
       "      <td>5.382077</td>\n",
       "      <td>5.486193</td>\n",
       "      <td>5.032729</td>\n",
       "      <td>5.363865</td>\n",
       "      <td>5.165766</td>\n",
       "      <td>5.476541</td>\n",
       "      <td>5.257098</td>\n",
       "      <td>5.530484</td>\n",
       "      <td>2</td>\n",
       "      <td>HER2+</td>\n",
       "    </tr>\n",
       "  </tbody>\n",
       "</table>\n",
       "<p>5 rows × 20002 columns</p>\n",
       "</div>"
      ],
      "text/plain": [
       "     SCGB2A2     MUCL1    SCGB1D2       PIP  LOC648852     DNAJA2       TFF3  \\\n",
       "0   6.365374  5.610561   5.134799  5.735802   5.855315   5.443985   8.005882   \n",
       "1  14.330442  7.979139  10.244240  7.138279   9.890661  11.195867  13.511164   \n",
       "2  14.388331  6.016715  12.164435  5.272691   6.468386   5.265518  13.386034   \n",
       "4  12.243103  7.293489  10.919581  9.566137   8.503568  11.492583  11.531352   \n",
       "5  12.805814  5.988130  10.158678  8.014498   7.969488   5.153460  14.464282   \n",
       "\n",
       "       S100P      CPB1    CEACAM6  ...  LOC645307    IL1RAP  LOC647149  \\\n",
       "0   5.615179  6.682096   5.756946  ...   5.420998  5.396492   5.358751   \n",
       "1  10.548596  5.491578   6.805606  ...   5.167652  5.273045   5.287980   \n",
       "2   8.764722  7.331663  11.967719  ...   5.327874  5.549589   5.333051   \n",
       "4   9.818938  9.443134   6.889670  ...   5.487783  5.479967   5.332074   \n",
       "5   6.916060  7.431630   8.414641  ...   5.382077  5.486193   5.032729   \n",
       "\n",
       "   LOC642453  LOC652100  LOC646050  LOC644912  LOC652294  target  Subtype  \n",
       "0   5.424770   5.411055   5.242460   5.197767   5.643537       6   Normal  \n",
       "1   5.398061   5.226934   5.396744   5.352158   5.811813       4     LumB  \n",
       "2   5.368544   5.296182   5.694022   5.459744   5.269015       4     LumB  \n",
       "4   5.273141   5.282872   5.222482   5.186136   5.616094       3     LumA  \n",
       "5   5.363865   5.165766   5.476541   5.257098   5.530484       2    HER2+  \n",
       "\n",
       "[5 rows x 20002 columns]"
      ]
     },
     "execution_count": 22,
     "metadata": {},
     "output_type": "execute_result"
    }
   ],
   "source": [
    "import scipy.io\n",
    "\n",
    "mat = scipy.io.loadmat(\"BRCA1View20000.mat\")\n",
    "gene_labels = [g[0] for g in mat['gene'][0]]\n",
    "df_20000 = pd.DataFrame(mat['data'].transpose(), columns=gene_labels)\n",
    "# df['id'] = mat['id'][0]\n",
    "df_20000['target'] = mat['targets']\n",
    "df_20000['Subtype'] = df_20000.target.map({1:'Basal',2:'HER2+',3:'LumA',4:'LumB',5:'Normal Like',6:'Normal'})\n",
    "df_20000 = df_20000[df_20000[\"Subtype\"] != \"Normal Like\"]\n",
    "df_20000.head()"
   ]
  },
  {
   "cell_type": "code",
   "execution_count": 23,
   "id": "zdVzygra4sxB",
   "metadata": {
    "id": "zdVzygra4sxB"
   },
   "outputs": [],
   "source": [
    "def subtypeMapping(subtype):\n",
    "  if subtype == \"HER2+\":\n",
    "    return \"Her2\"\n",
    "  return subtype"
   ]
  },
  {
   "cell_type": "code",
   "execution_count": 24,
   "id": "VU46Ix3R7x3D",
   "metadata": {
    "id": "VU46Ix3R7x3D"
   },
   "outputs": [],
   "source": [
    "df_20000[\"Subtype\"] = df_20000[\"Subtype\"].map(subtypeMapping)"
   ]
  },
  {
   "cell_type": "code",
   "execution_count": 25,
   "id": "re3ib8CK1Sr3",
   "metadata": {
    "colab": {
     "base_uri": "https://localhost:8080/"
    },
    "id": "re3ib8CK1Sr3",
    "outputId": "11418067-f707-4e8a-8dab-0c4e5a422dc3"
   },
   "outputs": [
    {
     "data": {
      "text/plain": [
       "14833"
      ]
     },
     "execution_count": 25,
     "metadata": {},
     "output_type": "execute_result"
    }
   ],
   "source": [
    "genes_in_common = set(list(df_combined.columns)).intersection(set(list(df_20000.columns)))\n",
    "df_combined_drop_columns = set(df_combined.columns[3:]) - genes_in_common\n",
    "df_20000_drop_columns = set(df_20000.columns[:-2]) - genes_in_common\n",
    "len(genes_in_common)"
   ]
  },
  {
   "cell_type": "code",
   "execution_count": 26,
   "id": "PuKf0ewN187B",
   "metadata": {
    "id": "PuKf0ewN187B"
   },
   "outputs": [],
   "source": [
    "df_combined_common_genes = df_combined.drop(df_combined_drop_columns, axis=1)\n",
    "df_20000_common_genes = df_20000.drop(df_20000_drop_columns, axis=1)"
   ]
  },
  {
   "cell_type": "code",
   "execution_count": 27,
   "id": "ylP-HL6C5U04",
   "metadata": {
    "colab": {
     "base_uri": "https://localhost:8080/",
     "height": 414
    },
    "id": "ylP-HL6C5U04",
    "outputId": "69b7eba5-d8eb-47d9-e4a9-9d2961e1480f"
   },
   "outputs": [
    {
     "data": {
      "text/html": [
       "<div>\n",
       "<style scoped>\n",
       "    .dataframe tbody tr th:only-of-type {\n",
       "        vertical-align: middle;\n",
       "    }\n",
       "\n",
       "    .dataframe tbody tr th {\n",
       "        vertical-align: top;\n",
       "    }\n",
       "\n",
       "    .dataframe thead th {\n",
       "        text-align: right;\n",
       "    }\n",
       "</style>\n",
       "<table border=\"1\" class=\"dataframe\">\n",
       "  <thead>\n",
       "    <tr style=\"text-align: right;\">\n",
       "      <th></th>\n",
       "      <th>Type</th>\n",
       "      <th>Siglust</th>\n",
       "      <th>Subtype</th>\n",
       "      <th>ELMO2</th>\n",
       "      <th>CREB3L1</th>\n",
       "      <th>RPS11</th>\n",
       "      <th>PNMA1</th>\n",
       "      <th>MMP2</th>\n",
       "      <th>C10orf90</th>\n",
       "      <th>ZHX3</th>\n",
       "      <th>...</th>\n",
       "      <th>HCLS1</th>\n",
       "      <th>CSF2</th>\n",
       "      <th>SLC2A11</th>\n",
       "      <th>GPLD1</th>\n",
       "      <th>RAB8A</th>\n",
       "      <th>PIK3IP1</th>\n",
       "      <th>SLC39A6</th>\n",
       "      <th>SNRPD2</th>\n",
       "      <th>AQP7</th>\n",
       "      <th>CTSC</th>\n",
       "    </tr>\n",
       "  </thead>\n",
       "  <tbody>\n",
       "    <tr>\n",
       "      <th>TCGA-A1-A0SD-01A-11R-A115-07</th>\n",
       "      <td>tumor</td>\n",
       "      <td>-9</td>\n",
       "      <td>LumA</td>\n",
       "      <td>0.220167</td>\n",
       "      <td>0.54375</td>\n",
       "      <td>0.354875</td>\n",
       "      <td>0.4335</td>\n",
       "      <td>1.065167</td>\n",
       "      <td>-0.11225</td>\n",
       "      <td>0.262333</td>\n",
       "      <td>...</td>\n",
       "      <td>-0.554667</td>\n",
       "      <td>-0.43375</td>\n",
       "      <td>0.308833</td>\n",
       "      <td>0.048</td>\n",
       "      <td>-0.2987</td>\n",
       "      <td>-0.1575</td>\n",
       "      <td>0.1907</td>\n",
       "      <td>0.0472</td>\n",
       "      <td>-0.1925</td>\n",
       "      <td>-0.7193</td>\n",
       "    </tr>\n",
       "    <tr>\n",
       "      <th>TCGA-A1-A0SE-01A-11R-A084-07</th>\n",
       "      <td>tumor</td>\n",
       "      <td>-5</td>\n",
       "      <td>LumA</td>\n",
       "      <td>-0.1055</td>\n",
       "      <td>0.0</td>\n",
       "      <td>0.305875</td>\n",
       "      <td>0.03925</td>\n",
       "      <td>0.517</td>\n",
       "      <td>1.31575</td>\n",
       "      <td>0.175333</td>\n",
       "      <td>...</td>\n",
       "      <td>-0.412333</td>\n",
       "      <td>-0.1675</td>\n",
       "      <td>0.214333</td>\n",
       "      <td>0.275167</td>\n",
       "      <td>0.2673</td>\n",
       "      <td>0.686</td>\n",
       "      <td>1.5998</td>\n",
       "      <td>-0.0969</td>\n",
       "      <td>-0.546</td>\n",
       "      <td>-0.8805</td>\n",
       "    </tr>\n",
       "  </tbody>\n",
       "</table>\n",
       "<p>2 rows × 14835 columns</p>\n",
       "</div>"
      ],
      "text/plain": [
       "                               Type  Siglust Subtype     ELMO2  CREB3L1  \\\n",
       "TCGA-A1-A0SD-01A-11R-A115-07  tumor       -9    LumA  0.220167  0.54375   \n",
       "TCGA-A1-A0SE-01A-11R-A084-07  tumor       -5    LumA   -0.1055      0.0   \n",
       "\n",
       "                                 RPS11    PNMA1      MMP2 C10orf90      ZHX3  \\\n",
       "TCGA-A1-A0SD-01A-11R-A115-07  0.354875   0.4335  1.065167 -0.11225  0.262333   \n",
       "TCGA-A1-A0SE-01A-11R-A084-07  0.305875  0.03925     0.517  1.31575  0.175333   \n",
       "\n",
       "                              ...     HCLS1     CSF2   SLC2A11     GPLD1  \\\n",
       "TCGA-A1-A0SD-01A-11R-A115-07  ... -0.554667 -0.43375  0.308833     0.048   \n",
       "TCGA-A1-A0SE-01A-11R-A084-07  ... -0.412333  -0.1675  0.214333  0.275167   \n",
       "\n",
       "                               RAB8A PIK3IP1 SLC39A6  SNRPD2    AQP7    CTSC  \n",
       "TCGA-A1-A0SD-01A-11R-A115-07 -0.2987 -0.1575  0.1907  0.0472 -0.1925 -0.7193  \n",
       "TCGA-A1-A0SE-01A-11R-A084-07  0.2673   0.686  1.5998 -0.0969  -0.546 -0.8805  \n",
       "\n",
       "[2 rows x 14835 columns]"
      ]
     },
     "execution_count": 27,
     "metadata": {},
     "output_type": "execute_result"
    }
   ],
   "source": [
    "df_combined_common_genes.head(2)"
   ]
  },
  {
   "cell_type": "code",
   "execution_count": 28,
   "id": "vmu91PNS5YJu",
   "metadata": {
    "colab": {
     "base_uri": "https://localhost:8080/",
     "height": 300
    },
    "id": "vmu91PNS5YJu",
    "outputId": "ffec5f2c-34ab-4298-cc3b-7a783dd4fade"
   },
   "outputs": [
    {
     "data": {
      "text/html": [
       "<div>\n",
       "<style scoped>\n",
       "    .dataframe tbody tr th:only-of-type {\n",
       "        vertical-align: middle;\n",
       "    }\n",
       "\n",
       "    .dataframe tbody tr th {\n",
       "        vertical-align: top;\n",
       "    }\n",
       "\n",
       "    .dataframe thead th {\n",
       "        text-align: right;\n",
       "    }\n",
       "</style>\n",
       "<table border=\"1\" class=\"dataframe\">\n",
       "  <thead>\n",
       "    <tr style=\"text-align: right;\">\n",
       "      <th></th>\n",
       "      <th>SCGB2A2</th>\n",
       "      <th>MUCL1</th>\n",
       "      <th>SCGB1D2</th>\n",
       "      <th>PIP</th>\n",
       "      <th>DNAJA2</th>\n",
       "      <th>TFF3</th>\n",
       "      <th>S100P</th>\n",
       "      <th>CPB1</th>\n",
       "      <th>CEACAM6</th>\n",
       "      <th>SCGB2A1</th>\n",
       "      <th>...</th>\n",
       "      <th>FBXO25</th>\n",
       "      <th>MLANA</th>\n",
       "      <th>DAB1</th>\n",
       "      <th>C2orf19</th>\n",
       "      <th>NSL1</th>\n",
       "      <th>SYT5</th>\n",
       "      <th>C10orf62</th>\n",
       "      <th>IL1RAP</th>\n",
       "      <th>target</th>\n",
       "      <th>Subtype</th>\n",
       "    </tr>\n",
       "  </thead>\n",
       "  <tbody>\n",
       "    <tr>\n",
       "      <th>0</th>\n",
       "      <td>6.365374</td>\n",
       "      <td>5.610561</td>\n",
       "      <td>5.134799</td>\n",
       "      <td>5.735802</td>\n",
       "      <td>5.443985</td>\n",
       "      <td>8.005882</td>\n",
       "      <td>5.615179</td>\n",
       "      <td>6.682096</td>\n",
       "      <td>5.756946</td>\n",
       "      <td>5.444719</td>\n",
       "      <td>...</td>\n",
       "      <td>5.475921</td>\n",
       "      <td>5.058263</td>\n",
       "      <td>5.178206</td>\n",
       "      <td>5.105706</td>\n",
       "      <td>6.284404</td>\n",
       "      <td>5.616339</td>\n",
       "      <td>5.245275</td>\n",
       "      <td>5.396492</td>\n",
       "      <td>6</td>\n",
       "      <td>Normal</td>\n",
       "    </tr>\n",
       "    <tr>\n",
       "      <th>1</th>\n",
       "      <td>14.330442</td>\n",
       "      <td>7.979139</td>\n",
       "      <td>10.244240</td>\n",
       "      <td>7.138279</td>\n",
       "      <td>11.195867</td>\n",
       "      <td>13.511164</td>\n",
       "      <td>10.548596</td>\n",
       "      <td>5.491578</td>\n",
       "      <td>6.805606</td>\n",
       "      <td>10.942782</td>\n",
       "      <td>...</td>\n",
       "      <td>5.554798</td>\n",
       "      <td>5.220061</td>\n",
       "      <td>4.974619</td>\n",
       "      <td>5.486211</td>\n",
       "      <td>6.358165</td>\n",
       "      <td>5.453547</td>\n",
       "      <td>5.450314</td>\n",
       "      <td>5.273045</td>\n",
       "      <td>4</td>\n",
       "      <td>LumB</td>\n",
       "    </tr>\n",
       "    <tr>\n",
       "      <th>2</th>\n",
       "      <td>14.388331</td>\n",
       "      <td>6.016715</td>\n",
       "      <td>12.164435</td>\n",
       "      <td>5.272691</td>\n",
       "      <td>5.265518</td>\n",
       "      <td>13.386034</td>\n",
       "      <td>8.764722</td>\n",
       "      <td>7.331663</td>\n",
       "      <td>11.967719</td>\n",
       "      <td>12.690971</td>\n",
       "      <td>...</td>\n",
       "      <td>5.849457</td>\n",
       "      <td>5.245774</td>\n",
       "      <td>5.241753</td>\n",
       "      <td>5.759466</td>\n",
       "      <td>6.129600</td>\n",
       "      <td>5.861127</td>\n",
       "      <td>5.319894</td>\n",
       "      <td>5.549589</td>\n",
       "      <td>4</td>\n",
       "      <td>LumB</td>\n",
       "    </tr>\n",
       "    <tr>\n",
       "      <th>4</th>\n",
       "      <td>12.243103</td>\n",
       "      <td>7.293489</td>\n",
       "      <td>10.919581</td>\n",
       "      <td>9.566137</td>\n",
       "      <td>11.492583</td>\n",
       "      <td>11.531352</td>\n",
       "      <td>9.818938</td>\n",
       "      <td>9.443134</td>\n",
       "      <td>6.889670</td>\n",
       "      <td>8.416175</td>\n",
       "      <td>...</td>\n",
       "      <td>5.243130</td>\n",
       "      <td>5.296567</td>\n",
       "      <td>5.230233</td>\n",
       "      <td>5.283717</td>\n",
       "      <td>6.357914</td>\n",
       "      <td>5.458864</td>\n",
       "      <td>5.100869</td>\n",
       "      <td>5.479967</td>\n",
       "      <td>3</td>\n",
       "      <td>LumA</td>\n",
       "    </tr>\n",
       "    <tr>\n",
       "      <th>5</th>\n",
       "      <td>12.805814</td>\n",
       "      <td>5.988130</td>\n",
       "      <td>10.158678</td>\n",
       "      <td>8.014498</td>\n",
       "      <td>5.153460</td>\n",
       "      <td>14.464282</td>\n",
       "      <td>6.916060</td>\n",
       "      <td>7.431630</td>\n",
       "      <td>8.414641</td>\n",
       "      <td>8.753603</td>\n",
       "      <td>...</td>\n",
       "      <td>5.729262</td>\n",
       "      <td>5.433647</td>\n",
       "      <td>5.391205</td>\n",
       "      <td>5.341332</td>\n",
       "      <td>6.414287</td>\n",
       "      <td>5.505140</td>\n",
       "      <td>5.309892</td>\n",
       "      <td>5.486193</td>\n",
       "      <td>2</td>\n",
       "      <td>Her2</td>\n",
       "    </tr>\n",
       "  </tbody>\n",
       "</table>\n",
       "<p>5 rows × 14834 columns</p>\n",
       "</div>"
      ],
      "text/plain": [
       "     SCGB2A2     MUCL1    SCGB1D2       PIP     DNAJA2       TFF3      S100P  \\\n",
       "0   6.365374  5.610561   5.134799  5.735802   5.443985   8.005882   5.615179   \n",
       "1  14.330442  7.979139  10.244240  7.138279  11.195867  13.511164  10.548596   \n",
       "2  14.388331  6.016715  12.164435  5.272691   5.265518  13.386034   8.764722   \n",
       "4  12.243103  7.293489  10.919581  9.566137  11.492583  11.531352   9.818938   \n",
       "5  12.805814  5.988130  10.158678  8.014498   5.153460  14.464282   6.916060   \n",
       "\n",
       "       CPB1    CEACAM6    SCGB2A1  ...    FBXO25     MLANA      DAB1  \\\n",
       "0  6.682096   5.756946   5.444719  ...  5.475921  5.058263  5.178206   \n",
       "1  5.491578   6.805606  10.942782  ...  5.554798  5.220061  4.974619   \n",
       "2  7.331663  11.967719  12.690971  ...  5.849457  5.245774  5.241753   \n",
       "4  9.443134   6.889670   8.416175  ...  5.243130  5.296567  5.230233   \n",
       "5  7.431630   8.414641   8.753603  ...  5.729262  5.433647  5.391205   \n",
       "\n",
       "    C2orf19      NSL1      SYT5  C10orf62    IL1RAP  target  Subtype  \n",
       "0  5.105706  6.284404  5.616339  5.245275  5.396492       6   Normal  \n",
       "1  5.486211  6.358165  5.453547  5.450314  5.273045       4     LumB  \n",
       "2  5.759466  6.129600  5.861127  5.319894  5.549589       4     LumB  \n",
       "4  5.283717  6.357914  5.458864  5.100869  5.479967       3     LumA  \n",
       "5  5.341332  6.414287  5.505140  5.309892  5.486193       2     Her2  \n",
       "\n",
       "[5 rows x 14834 columns]"
      ]
     },
     "execution_count": 28,
     "metadata": {},
     "output_type": "execute_result"
    }
   ],
   "source": [
    "df_20000_common_genes.head()"
   ]
  },
  {
   "cell_type": "markdown",
   "id": "3fd8398f",
   "metadata": {},
   "source": [
    "### Training and Evaluating Different Models"
   ]
  },
  {
   "cell_type": "markdown",
   "id": "b04ee867",
   "metadata": {},
   "source": [
    "#### Built-in Scalers\n"
   ]
  },
  {
   "cell_type": "code",
   "execution_count": 62,
   "id": "727ad6e7",
   "metadata": {},
   "outputs": [
    {
     "data": {
      "text/plain": [
       "Pipeline(steps=[('minmaxscaler', MinMaxScaler()),\n",
       "                ('randomforestclassifier', RandomForestClassifier())])"
      ]
     },
     "execution_count": 62,
     "metadata": {},
     "output_type": "execute_result"
    }
   ],
   "source": [
    "\n",
    "from sklearn.preprocessing import StandardScaler, MinMaxScaler, MaxAbsScaler\n",
    "from sklearn.pipeline import make_pipeline\n",
    "\n",
    "X_train = df_combined_common_genes.drop([\"Type\", \"Siglust\", \"Subtype\"], axis=1)\n",
    "X_train.columns = X_test.columns.map(str)\n",
    "feature_names_order = X_train.columns\n",
    "y_train = df_combined_common_genes[\"Subtype\"]\n",
    "\n",
    "# define pipeline and fit to training set\n",
    "pipeline_std = make_pipeline(\n",
    "          StandardScaler(),\n",
    "          RandomForestClassifier()\n",
    ")\n",
    "\n",
    "pipeline_max_abs = make_pipeline(\n",
    "          MaxAbsScaler(),\n",
    "          RandomForestClassifier()\n",
    ")\n",
    "\n",
    "pipeline_min_max = make_pipeline(\n",
    "          MinMaxScaler(),\n",
    "          RandomForestClassifier()\n",
    ")\n",
    "\n",
    "pipeline_std.fit(X=X_train, y=y_train)\n",
    "pipeline_max_abs.fit(X=X_train, y=y_train)\n",
    "pipeline_min_max.fit(X=X_train, y=y_train)"
   ]
  },
  {
   "cell_type": "code",
   "execution_count": 63,
   "id": "XTKQEVa45sie",
   "metadata": {
    "id": "XTKQEVa45sie"
   },
   "outputs": [],
   "source": [
    "X_test = df_20000_common_genes.drop([\"target\", \"Subtype\"], axis=1)\n",
    "y_test = df_20000_common_genes[\"Subtype\"]\n",
    "X_test.columns = X_test.columns.map(str) # fixing warnign of non-str feature name\n",
    "X_test = X_test[feature_names_order]"
   ]
  },
  {
   "cell_type": "code",
   "execution_count": 65,
   "id": "TIs5cD7z6B6r",
   "metadata": {
    "colab": {
     "base_uri": "https://localhost:8080/"
    },
    "id": "TIs5cD7z6B6r",
    "outputId": "c1214530-3bf1-459e-fa12-6d8a20294412"
   },
   "outputs": [],
   "source": [
    "y_pred_std = pipeline_std.predict(X_test)\n",
    "y_pred_max_abs = pipeline_max_abs.predict(X_test)\n",
    "y_pred_min_max = pipeline_min_max.predict(X_test)"
   ]
  },
  {
   "cell_type": "code",
   "execution_count": 66,
   "id": "9CVVLdbO-JdA",
   "metadata": {
    "colab": {
     "base_uri": "https://localhost:8080/"
    },
    "id": "9CVVLdbO-JdA",
    "outputId": "1510bac6-2fcf-43cf-8dcb-f8e24f0b5596"
   },
   "outputs": [
    {
     "name": "stdout",
     "output_type": "stream",
     "text": [
      "              precision    recall  f1-score   support\n",
      "\n",
      "       Basal       0.00      0.00      0.00       330\n",
      "        Her2       0.12      1.00      0.22       239\n",
      "        LumA       0.00      0.00      0.00       721\n",
      "        LumB       0.00      0.00      0.00       491\n",
      "      Normal       0.00      0.00      0.00       150\n",
      "\n",
      "    accuracy                           0.12      1931\n",
      "   macro avg       0.02      0.20      0.04      1931\n",
      "weighted avg       0.02      0.12      0.03      1931\n",
      "\n"
     ]
    }
   ],
   "source": [
    "# StandardScaler\n",
    "\n",
    "from sklearn.metrics import classification_report\n",
    "\n",
    "print(classification_report(y_test, y_pred_std, digits=2, zero_division=False))"
   ]
  },
  {
   "cell_type": "code",
   "execution_count": 67,
   "id": "QNyfSsoiAMBU",
   "metadata": {
    "id": "QNyfSsoiAMBU"
   },
   "outputs": [
    {
     "name": "stdout",
     "output_type": "stream",
     "text": [
      "              precision    recall  f1-score   support\n",
      "\n",
      "       Basal       0.00      0.00      0.00       330\n",
      "        Her2       0.12      1.00      0.22       239\n",
      "        LumA       0.00      0.00      0.00       721\n",
      "        LumB       0.00      0.00      0.00       491\n",
      "      Normal       0.00      0.00      0.00       150\n",
      "\n",
      "    accuracy                           0.12      1931\n",
      "   macro avg       0.02      0.20      0.04      1931\n",
      "weighted avg       0.02      0.12      0.03      1931\n",
      "\n"
     ]
    }
   ],
   "source": [
    "# MaxAbsScaler\n",
    "\n",
    "print(classification_report(y_test, y_pred_max_abs, digits=2, zero_division=False))"
   ]
  },
  {
   "cell_type": "code",
   "execution_count": 68,
   "id": "ca6f958f",
   "metadata": {},
   "outputs": [
    {
     "name": "stdout",
     "output_type": "stream",
     "text": [
      "              precision    recall  f1-score   support\n",
      "\n",
      "       Basal       0.00      0.00      0.00       330\n",
      "        Her2       0.00      0.00      0.00       239\n",
      "        LumA       0.00      0.00      0.00       721\n",
      "        LumB       0.25      1.00      0.41       491\n",
      "      Normal       0.00      0.00      0.00       150\n",
      "\n",
      "    accuracy                           0.25      1931\n",
      "   macro avg       0.05      0.20      0.08      1931\n",
      "weighted avg       0.06      0.25      0.10      1931\n",
      "\n"
     ]
    }
   ],
   "source": [
    "# MinMaxScaler\n",
    "\n",
    "print(classification_report(y_test, y_pred_min_max, digits=2, zero_division=False))"
   ]
  },
  {
   "cell_type": "markdown",
   "id": "1b4c48cf",
   "metadata": {},
   "source": [
    "#### Other Scalers\n"
   ]
  },
  {
   "cell_type": "code",
   "execution_count": 98,
   "id": "db364604",
   "metadata": {},
   "outputs": [],
   "source": [
    "# Normalization by library size (total reads)\n",
    "\n",
    "X_test_library_size = X_test.div(X_test.sum(axis=1), axis='rows')\n",
    "y_test = df_20000_common_genes[\"Subtype\"]\n",
    "X_train_library_size = X_train.div(X_train.sum(axis=1), axis='rows')\n",
    "y_train = df_combined_common_genes[\"Subtype\"]"
   ]
  },
  {
   "cell_type": "code",
   "execution_count": 99,
   "id": "00ed8ca1",
   "metadata": {},
   "outputs": [],
   "source": [
    "model = RandomForestClassifier()\n",
    "model.fit(X_train_library_size, y_train)\n",
    "y_pred = model.predict(X_test_library_size)"
   ]
  },
  {
   "cell_type": "code",
   "execution_count": 100,
   "id": "607236b2",
   "metadata": {},
   "outputs": [
    {
     "name": "stdout",
     "output_type": "stream",
     "text": [
      "              precision    recall  f1-score   support\n",
      "\n",
      "       Basal       0.00      0.00      0.00         0\n",
      "        Her2       0.00      0.00      0.00         0\n",
      "        LumA       1.00      0.37      0.54      1931\n",
      "        LumB       0.00      0.00      0.00         0\n",
      "      Normal       0.00      0.00      0.00         0\n",
      "\n",
      "    accuracy                           0.37      1931\n",
      "   macro avg       0.20      0.07      0.11      1931\n",
      "weighted avg       1.00      0.37      0.54      1931\n",
      "\n"
     ]
    }
   ],
   "source": [
    "print(classification_report(y_pred, y_test, digits=2, zero_division=False))"
   ]
  },
  {
   "cell_type": "code",
   "execution_count": null,
   "id": "9a373178",
   "metadata": {},
   "outputs": [],
   "source": []
  }
 ],
 "metadata": {
  "colab": {
   "collapsed_sections": [
    "30c70ec2",
    "e77e27af",
    "4caa46ee"
   ],
   "include_colab_link": true,
   "name": "Random Forest Classification For Breast Cancer Subtypes",
   "provenance": []
  },
  "kernelspec": {
   "display_name": "Python 3 (ipykernel)",
   "language": "python",
   "name": "python3"
  },
  "language_info": {
   "codemirror_mode": {
    "name": "ipython",
    "version": 3
   },
   "file_extension": ".py",
   "mimetype": "text/x-python",
   "name": "python",
   "nbconvert_exporter": "python",
   "pygments_lexer": "ipython3",
   "version": "3.8.12"
  }
 },
 "nbformat": 4,
 "nbformat_minor": 5
}
